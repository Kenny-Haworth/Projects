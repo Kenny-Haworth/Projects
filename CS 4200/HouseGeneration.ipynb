{
 "cells": [
  {
   "cell_type": "markdown",
   "metadata": {},
   "source": [
    "Kenny Haworth\n",
    "\n",
    "011694826"
   ]
  },
  {
   "cell_type": "markdown",
   "metadata": {},
   "source": [
    "**House Generation via Answer Set Programming**\n",
    "\n",
    "In this assignment, you will be writing a constraint satisfaction program in AnsProlog and solving it with `clingo` -- a piece of Potassco, the Potsdam Answer Set Solving Collection, a bundle of tools for Answer Set Programming developed at the University of Potsdam. \n",
    "\n",
    "This will involve writing a program that:\n",
    "\n",
    "* Infers facts about the state of the world (e.g. is a location safe for placing a wall given the constraints listed below)\n",
    "* Makes choices about how and where to place a house\n",
    "* Constrains how the house should be built (e.g. it should not place two doors next to each other)\n",
    "\n",
    "Answer Set Programming is a declarative programming paradigm, in opposition to the more common imperative programming paradigm.  In an imperative programming paradigm, you tell the computer what to do.  In a declarative programming paradigm, you tell the computer what your desired result is, and then it finds a solution that matches your prescribed solution.  The most common declarative programming language is SQL -- wherein users don't tell the database how to find the results they want, they instead tell the program what kind of results they want and SQL does it.\n",
    "\n",
    "This notebook exists solely for running `clingo` and printing the results in a pretty manner.  The logic of the program exist in `world_gen.lp` that generates a map based on a set of constraints.  Go over there now and get a feel for the code. \n",
    "\n",
    "*\n",
    "*\n",
    "*"
   ]
  },
  {
   "cell_type": "markdown",
   "metadata": {},
   "source": [
    "Now that you have seen the ASP program, here are some helpers defined for you:\n",
    "\n",
    "`solve` runs a `clingo` sub process, places the results in a file called `dump.lp` (that you can use for debugging), and the processes it into a Python dictionary\n",
    "\n",
    "`parse_json_result` processes the result as a json file and does the processing into the dictionary file\n",
    "\n",
    "`pretty_print` takes the resultant dictionary and produces a text grid visualization using emoji"
   ]
  },
  {
   "cell_type": "code",
   "execution_count": 1,
   "metadata": {},
   "outputs": [],
   "source": [
    "import json\n",
    "import collections\n",
    "import subprocess\n",
    "import random\n",
    "import sys\n",
    "\n",
    "\n",
    "def solve(args):\n",
    "    \"\"\"Run clingo with the provided argument list and return the parsed JSON result.\"\"\"\n",
    "\n",
    "    print_args = ['clingo'] + list(args) + [' | tr [:space:] \\\\\\\\n | sort ']\n",
    "    args = ['clingo', '--outf=2'] + args + [\"--sign-def=rnd\",\"--seed=\"+str(random.randint(0,1<<30))]\n",
    "    with subprocess.Popen(\n",
    "        ' '.join(args),\n",
    "        stdout=subprocess.PIPE,\n",
    "        stderr=subprocess.PIPE,\n",
    "        shell=True\n",
    "    ) as clingo:\n",
    "        outb, err = clingo.communicate()\n",
    "    if err:\n",
    "        print(err)\n",
    "    out = outb.decode(\"utf-8\")\n",
    "    with open('dump.lp', 'w') as outfile:\n",
    "        result = json.loads(out)\n",
    "        witness = result['Call'][0]['Witnesses'][-1]['Value']\n",
    "        for atom in sorted(witness):\n",
    "            outfile.write(atom + '\\n')\n",
    "    \n",
    "    return parse_json_result(out)\n",
    "\n",
    "\n",
    "def parse_json_result(out):\n",
    "    \"\"\"Parse the provided JSON text and extract a dict\n",
    "    representing the predicates described in the first solver result.\"\"\"\n",
    "\n",
    "    result = json.loads(out)\n",
    "\n",
    "    assert len(result['Call']) > 0\n",
    "    assert len(result['Call'][0]['Witnesses']) > 0\n",
    "\n",
    "    witness = result['Call'][0]['Witnesses'][0]['Value']\n",
    "\n",
    "    class identitydefaultdict(collections.defaultdict):\n",
    "        def __missing__(self, key):\n",
    "            return key\n",
    "\n",
    "    preds = collections.defaultdict(set)\n",
    "    env = identitydefaultdict()\n",
    "\n",
    "    for atom in witness:\n",
    "        if '(' in atom:\n",
    "            left = atom.index('(')\n",
    "            functor = atom[:left]\n",
    "            arg_string = atom[left:]\n",
    "            try:\n",
    "                preds[functor].add( eval(arg_string, env) )\n",
    "            except TypeError:\n",
    "                pass # at least we tried...\n",
    "\n",
    "        else:\n",
    "            preds[atom] = True\n",
    "    return dict(preds)\n",
    "\n",
    "\n",
    "def pretty_print(world):\n",
    "    import functools\n",
    "    width = functools.reduce(lambda x,y: max(x,y),world['width'])\n",
    "    height = functools.reduce(lambda x,y: max(x,y),world['height'])\n",
    "    grid = [[ ' ' for w in range(width)] for h in range(height)]\n",
    "\n",
    "    legend = {'grass':'🌿',\n",
    "    'flower':'🌼',\n",
    "    'bridge':'🌉',\n",
    "    'water':'🌊',\n",
    "    'tree':'🌲',\n",
    "    'door':'🚪',\n",
    "    'wall':'🗄️',\n",
    "    'bed':'🛏️',\n",
    "    'floor':'🔲'}\n",
    "\n",
    "\n",
    "    for t in world['terrain']:\n",
    "        xx = int(t[0])\n",
    "        yy = int(t[1])\n",
    "        type = t[2]\n",
    "        grid[yy-1][xx-1] = legend[type]\n",
    "    for t in world.get('construction',[]):\n",
    "        xx = int(t[0])\n",
    "        yy = int(t[1])\n",
    "        type = t[2]\n",
    "        grid[yy-1][xx-1] = legend[type]\n",
    "        \n",
    "    return ('\\n'.join([''.join(r) for r in grid]))"
   ]
  },
  {
   "cell_type": "markdown",
   "metadata": {},
   "source": [
    "Now we can run it and print the results!\n",
    "\n",
    "Note: the use of `-c` lets us change a `#const` defined in the ASProlog code, so that we can dynamically resize the resultant map without needing to modify our code.\n",
    "\n",
    "1. Try decreasing the size to below 10 by 10 -- What happens?\n",
    "2. Try increasing the size.  At what point does it become too burdensome to wait for you?\n"
   ]
  },
  {
   "cell_type": "code",
   "execution_count": 2,
   "metadata": {},
   "outputs": [],
   "source": [
    "# %%time\n",
    "\n",
    "# width = 12\n",
    "# height = 12\n",
    "# world = solve(['world_gen.swi','-c','max_width={}'.format(width),'-c','max_height={}'.format(height),'-t','4'])\n",
    "\n",
    "# print(pretty_print(world))\n"
   ]
  },
  {
   "cell_type": "markdown",
   "metadata": {},
   "source": [
    "Now its your turn!\n",
    "\n",
    "You will add code to generate a house in your own file `house_gen.swi` .  If you run your code at the same time as `world_gen.swi`, it will generate the terrain at the same time as your house is generated (guaranteeing that the terrain that is generated is capable of supporting your house).\n",
    "\n",
    "Your code will create a `construction` predicate of the form:\n",
    "\n",
    "`construction(X_Position, Y_Position, Construction_Type)`\n",
    "\n",
    "where `Construction_Type` is one of `door, wall, floor, bed`.\n",
    "\n",
    "This is a free-form assignment, but you have a few constraints that you should satisfy:\n",
    "\n",
    "* Your house should contain at least 1 door, 1 bed, all non-bed tiles should be floor, and the perimeter of the house should be walls\n",
    "* It should not place 2 doors side by side\n",
    "* Doors shouldn't be placed in corners, but should be able to face out to any cardinal direction\n",
    "* Doors should open to grass or flowers, not water, bridges, or trees\n",
    "* All pieces of your house should be on top of grass or flowers, not water, bridges, or trees\n",
    "* The position of your house shouldn't be hardcoded\n",
    "* A wall piece must touch (in cardinal directions) only 2 doors or walls\n",
    "\n",
    "* Bonus credit: 10 points -- Your houses can be of variable width and height\n",
    "* Bonus credit: 10 points -- Your houses can be in shapes that aren't just rectangles"
   ]
  },
  {
   "cell_type": "code",
   "execution_count": 3,
   "metadata": {},
   "outputs": [
    {
     "name": "stdout",
     "output_type": "stream",
     "text": [
      "b\"'clingo' is not recognized as an internal or external command,\\r\\noperable program or batch file.\\r\\n\"\n"
     ]
    },
    {
     "ename": "JSONDecodeError",
     "evalue": "Expecting value: line 1 column 1 (char 0)",
     "output_type": "error",
     "traceback": [
      "\u001b[1;31m---------------------------------------------------------------------------\u001b[0m",
      "\u001b[1;31mJSONDecodeError\u001b[0m                           Traceback (most recent call last)",
      "\u001b[1;32m<ipython-input-3-9d2ea04b8792>\u001b[0m in \u001b[0;36m<module>\u001b[1;34m\u001b[0m\n\u001b[0;32m      3\u001b[0m \u001b[0mwidth\u001b[0m \u001b[1;33m=\u001b[0m \u001b[1;36m12\u001b[0m\u001b[1;33m\u001b[0m\u001b[1;33m\u001b[0m\u001b[0m\n\u001b[0;32m      4\u001b[0m \u001b[0mheight\u001b[0m \u001b[1;33m=\u001b[0m \u001b[1;36m12\u001b[0m\u001b[1;33m\u001b[0m\u001b[1;33m\u001b[0m\u001b[0m\n\u001b[1;32m----> 5\u001b[1;33m \u001b[0mworld\u001b[0m \u001b[1;33m=\u001b[0m \u001b[0msolve\u001b[0m\u001b[1;33m(\u001b[0m\u001b[1;33m[\u001b[0m\u001b[1;34m'world_gen.swi'\u001b[0m\u001b[1;33m,\u001b[0m\u001b[1;34m'house_gen_simplest_set.swi'\u001b[0m\u001b[1;33m,\u001b[0m\u001b[1;34m'-c'\u001b[0m\u001b[1;33m,\u001b[0m\u001b[1;34m'max_width={}'\u001b[0m\u001b[1;33m.\u001b[0m\u001b[0mformat\u001b[0m\u001b[1;33m(\u001b[0m\u001b[0mwidth\u001b[0m\u001b[1;33m)\u001b[0m\u001b[1;33m,\u001b[0m\u001b[1;34m'-c'\u001b[0m\u001b[1;33m,\u001b[0m\u001b[1;34m'max_height={}'\u001b[0m\u001b[1;33m.\u001b[0m\u001b[0mformat\u001b[0m\u001b[1;33m(\u001b[0m\u001b[0mheight\u001b[0m\u001b[1;33m)\u001b[0m\u001b[1;33m,\u001b[0m\u001b[1;34m'-t'\u001b[0m\u001b[1;33m,\u001b[0m\u001b[1;34m'4'\u001b[0m\u001b[1;33m]\u001b[0m\u001b[1;33m)\u001b[0m\u001b[1;33m\u001b[0m\u001b[1;33m\u001b[0m\u001b[0m\n\u001b[0m\u001b[0;32m      6\u001b[0m \u001b[1;33m\u001b[0m\u001b[0m\n\u001b[0;32m      7\u001b[0m \u001b[0mprint\u001b[0m\u001b[1;33m(\u001b[0m\u001b[0mpretty_print\u001b[0m\u001b[1;33m(\u001b[0m\u001b[0mworld\u001b[0m\u001b[1;33m)\u001b[0m\u001b[1;33m)\u001b[0m\u001b[1;33m\u001b[0m\u001b[1;33m\u001b[0m\u001b[0m\n",
      "\u001b[1;32m<ipython-input-1-8fd731aac87b>\u001b[0m in \u001b[0;36msolve\u001b[1;34m(args)\u001b[0m\n\u001b[0;32m     22\u001b[0m     \u001b[0mout\u001b[0m \u001b[1;33m=\u001b[0m \u001b[0moutb\u001b[0m\u001b[1;33m.\u001b[0m\u001b[0mdecode\u001b[0m\u001b[1;33m(\u001b[0m\u001b[1;34m\"utf-8\"\u001b[0m\u001b[1;33m)\u001b[0m\u001b[1;33m\u001b[0m\u001b[1;33m\u001b[0m\u001b[0m\n\u001b[0;32m     23\u001b[0m     \u001b[1;32mwith\u001b[0m \u001b[0mopen\u001b[0m\u001b[1;33m(\u001b[0m\u001b[1;34m'dump.lp'\u001b[0m\u001b[1;33m,\u001b[0m \u001b[1;34m'w'\u001b[0m\u001b[1;33m)\u001b[0m \u001b[1;32mas\u001b[0m \u001b[0moutfile\u001b[0m\u001b[1;33m:\u001b[0m\u001b[1;33m\u001b[0m\u001b[1;33m\u001b[0m\u001b[0m\n\u001b[1;32m---> 24\u001b[1;33m         \u001b[0mresult\u001b[0m \u001b[1;33m=\u001b[0m \u001b[0mjson\u001b[0m\u001b[1;33m.\u001b[0m\u001b[0mloads\u001b[0m\u001b[1;33m(\u001b[0m\u001b[0mout\u001b[0m\u001b[1;33m)\u001b[0m\u001b[1;33m\u001b[0m\u001b[1;33m\u001b[0m\u001b[0m\n\u001b[0m\u001b[0;32m     25\u001b[0m         \u001b[0mwitness\u001b[0m \u001b[1;33m=\u001b[0m \u001b[0mresult\u001b[0m\u001b[1;33m[\u001b[0m\u001b[1;34m'Call'\u001b[0m\u001b[1;33m]\u001b[0m\u001b[1;33m[\u001b[0m\u001b[1;36m0\u001b[0m\u001b[1;33m]\u001b[0m\u001b[1;33m[\u001b[0m\u001b[1;34m'Witnesses'\u001b[0m\u001b[1;33m]\u001b[0m\u001b[1;33m[\u001b[0m\u001b[1;33m-\u001b[0m\u001b[1;36m1\u001b[0m\u001b[1;33m]\u001b[0m\u001b[1;33m[\u001b[0m\u001b[1;34m'Value'\u001b[0m\u001b[1;33m]\u001b[0m\u001b[1;33m\u001b[0m\u001b[1;33m\u001b[0m\u001b[0m\n\u001b[0;32m     26\u001b[0m         \u001b[1;32mfor\u001b[0m \u001b[0matom\u001b[0m \u001b[1;32min\u001b[0m \u001b[0msorted\u001b[0m\u001b[1;33m(\u001b[0m\u001b[0mwitness\u001b[0m\u001b[1;33m)\u001b[0m\u001b[1;33m:\u001b[0m\u001b[1;33m\u001b[0m\u001b[1;33m\u001b[0m\u001b[0m\n",
      "\u001b[1;32mc:\\users\\kenny\\appdata\\local\\programs\\python\\python36\\lib\\json\\__init__.py\u001b[0m in \u001b[0;36mloads\u001b[1;34m(s, encoding, cls, object_hook, parse_float, parse_int, parse_constant, object_pairs_hook, **kw)\u001b[0m\n\u001b[0;32m    352\u001b[0m             \u001b[0mparse_int\u001b[0m \u001b[1;32mis\u001b[0m \u001b[1;32mNone\u001b[0m \u001b[1;32mand\u001b[0m \u001b[0mparse_float\u001b[0m \u001b[1;32mis\u001b[0m \u001b[1;32mNone\u001b[0m \u001b[1;32mand\u001b[0m\u001b[1;33m\u001b[0m\u001b[1;33m\u001b[0m\u001b[0m\n\u001b[0;32m    353\u001b[0m             parse_constant is None and object_pairs_hook is None and not kw):\n\u001b[1;32m--> 354\u001b[1;33m         \u001b[1;32mreturn\u001b[0m \u001b[0m_default_decoder\u001b[0m\u001b[1;33m.\u001b[0m\u001b[0mdecode\u001b[0m\u001b[1;33m(\u001b[0m\u001b[0ms\u001b[0m\u001b[1;33m)\u001b[0m\u001b[1;33m\u001b[0m\u001b[1;33m\u001b[0m\u001b[0m\n\u001b[0m\u001b[0;32m    355\u001b[0m     \u001b[1;32mif\u001b[0m \u001b[0mcls\u001b[0m \u001b[1;32mis\u001b[0m \u001b[1;32mNone\u001b[0m\u001b[1;33m:\u001b[0m\u001b[1;33m\u001b[0m\u001b[1;33m\u001b[0m\u001b[0m\n\u001b[0;32m    356\u001b[0m         \u001b[0mcls\u001b[0m \u001b[1;33m=\u001b[0m \u001b[0mJSONDecoder\u001b[0m\u001b[1;33m\u001b[0m\u001b[1;33m\u001b[0m\u001b[0m\n",
      "\u001b[1;32mc:\\users\\kenny\\appdata\\local\\programs\\python\\python36\\lib\\json\\decoder.py\u001b[0m in \u001b[0;36mdecode\u001b[1;34m(self, s, _w)\u001b[0m\n\u001b[0;32m    337\u001b[0m \u001b[1;33m\u001b[0m\u001b[0m\n\u001b[0;32m    338\u001b[0m         \"\"\"\n\u001b[1;32m--> 339\u001b[1;33m         \u001b[0mobj\u001b[0m\u001b[1;33m,\u001b[0m \u001b[0mend\u001b[0m \u001b[1;33m=\u001b[0m \u001b[0mself\u001b[0m\u001b[1;33m.\u001b[0m\u001b[0mraw_decode\u001b[0m\u001b[1;33m(\u001b[0m\u001b[0ms\u001b[0m\u001b[1;33m,\u001b[0m \u001b[0midx\u001b[0m\u001b[1;33m=\u001b[0m\u001b[0m_w\u001b[0m\u001b[1;33m(\u001b[0m\u001b[0ms\u001b[0m\u001b[1;33m,\u001b[0m \u001b[1;36m0\u001b[0m\u001b[1;33m)\u001b[0m\u001b[1;33m.\u001b[0m\u001b[0mend\u001b[0m\u001b[1;33m(\u001b[0m\u001b[1;33m)\u001b[0m\u001b[1;33m)\u001b[0m\u001b[1;33m\u001b[0m\u001b[1;33m\u001b[0m\u001b[0m\n\u001b[0m\u001b[0;32m    340\u001b[0m         \u001b[0mend\u001b[0m \u001b[1;33m=\u001b[0m \u001b[0m_w\u001b[0m\u001b[1;33m(\u001b[0m\u001b[0ms\u001b[0m\u001b[1;33m,\u001b[0m \u001b[0mend\u001b[0m\u001b[1;33m)\u001b[0m\u001b[1;33m.\u001b[0m\u001b[0mend\u001b[0m\u001b[1;33m(\u001b[0m\u001b[1;33m)\u001b[0m\u001b[1;33m\u001b[0m\u001b[1;33m\u001b[0m\u001b[0m\n\u001b[0;32m    341\u001b[0m         \u001b[1;32mif\u001b[0m \u001b[0mend\u001b[0m \u001b[1;33m!=\u001b[0m \u001b[0mlen\u001b[0m\u001b[1;33m(\u001b[0m\u001b[0ms\u001b[0m\u001b[1;33m)\u001b[0m\u001b[1;33m:\u001b[0m\u001b[1;33m\u001b[0m\u001b[1;33m\u001b[0m\u001b[0m\n",
      "\u001b[1;32mc:\\users\\kenny\\appdata\\local\\programs\\python\\python36\\lib\\json\\decoder.py\u001b[0m in \u001b[0;36mraw_decode\u001b[1;34m(self, s, idx)\u001b[0m\n\u001b[0;32m    355\u001b[0m             \u001b[0mobj\u001b[0m\u001b[1;33m,\u001b[0m \u001b[0mend\u001b[0m \u001b[1;33m=\u001b[0m \u001b[0mself\u001b[0m\u001b[1;33m.\u001b[0m\u001b[0mscan_once\u001b[0m\u001b[1;33m(\u001b[0m\u001b[0ms\u001b[0m\u001b[1;33m,\u001b[0m \u001b[0midx\u001b[0m\u001b[1;33m)\u001b[0m\u001b[1;33m\u001b[0m\u001b[1;33m\u001b[0m\u001b[0m\n\u001b[0;32m    356\u001b[0m         \u001b[1;32mexcept\u001b[0m \u001b[0mStopIteration\u001b[0m \u001b[1;32mas\u001b[0m \u001b[0merr\u001b[0m\u001b[1;33m:\u001b[0m\u001b[1;33m\u001b[0m\u001b[1;33m\u001b[0m\u001b[0m\n\u001b[1;32m--> 357\u001b[1;33m             \u001b[1;32mraise\u001b[0m \u001b[0mJSONDecodeError\u001b[0m\u001b[1;33m(\u001b[0m\u001b[1;34m\"Expecting value\"\u001b[0m\u001b[1;33m,\u001b[0m \u001b[0ms\u001b[0m\u001b[1;33m,\u001b[0m \u001b[0merr\u001b[0m\u001b[1;33m.\u001b[0m\u001b[0mvalue\u001b[0m\u001b[1;33m)\u001b[0m \u001b[1;32mfrom\u001b[0m \u001b[1;32mNone\u001b[0m\u001b[1;33m\u001b[0m\u001b[1;33m\u001b[0m\u001b[0m\n\u001b[0m\u001b[0;32m    358\u001b[0m         \u001b[1;32mreturn\u001b[0m \u001b[0mobj\u001b[0m\u001b[1;33m,\u001b[0m \u001b[0mend\u001b[0m\u001b[1;33m\u001b[0m\u001b[1;33m\u001b[0m\u001b[0m\n",
      "\u001b[1;31mJSONDecodeError\u001b[0m: Expecting value: line 1 column 1 (char 0)"
     ]
    }
   ],
   "source": [
    "#this code block is the simplest form the constraints\n",
    "\n",
    "width = 12\n",
    "height = 12\n",
    "world = solve(['world_gen.swi','house_gen_simplest_set.swi','-c','max_width={}'.format(width),'-c','max_height={}'.format(height),'-t','4'])\n",
    "\n",
    "print(pretty_print(world))"
   ]
  },
  {
   "cell_type": "code",
   "execution_count": null,
   "metadata": {},
   "outputs": [],
   "source": []
  }
 ],
 "metadata": {
  "kernelspec": {
   "display_name": "Python 3",
   "language": "python",
   "name": "python3"
  },
  "language_info": {
   "codemirror_mode": {
    "name": "ipython",
    "version": 3
   },
   "file_extension": ".py",
   "mimetype": "text/x-python",
   "name": "python",
   "nbconvert_exporter": "python",
   "pygments_lexer": "ipython3",
   "version": "3.6.7rc2"
  }
 },
 "nbformat": 4,
 "nbformat_minor": 2
}
