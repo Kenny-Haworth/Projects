{
 "cells": [
  {
   "cell_type": "markdown",
   "metadata": {},
   "source": [
    "# Making a Minecraft Tourist\n",
    "\n",
    "In this assignment you will be making a neural network that can do image captioning.  This network will take in an image and produce a string of text describing what is found in the image.  To do this you will be constructing a relatively complicated neural network that will:\n",
    "\n",
    "1. Use Convolutional Neural Networks (CNNs) to capture features from the images and condense it down to a vector of numbers that\n",
    "2. a LSTM will use as its input, generating the caption in an auto-regressive manner\n",
    "\n",
    "At the end of this assignment, you should understand:\n",
    "\n",
    "1. How to construct your own custom Torch module (instead of using Sequential as you did last time)\n",
    "2. How to combine multiple modules into one network\n",
    "3. How to create a CNN\n",
    "4. How to create an auto-regressive LSTM\n",
    "\n",
    "First off, we have our import statements"
   ]
  },
  {
   "cell_type": "code",
   "execution_count": 1,
   "metadata": {},
   "outputs": [],
   "source": [
    "import torch\n",
    "import torch.nn as nn\n",
    "import torch.nn.functional as F\n",
    "import numpy as np\n",
    "import os\n",
    "import pickle\n",
    "from torch.nn.utils.rnn import pack_padded_sequence, pad_packed_sequence"
   ]
  },
  {
   "cell_type": "markdown",
   "metadata": {},
   "source": [
    "Now we need to set up our dataset.  The data has been pickled for you (pickle is a Python specific serialization that works more seemlessly than something like XML or JSON).  "
   ]
  },
  {
   "cell_type": "code",
   "execution_count": 2,
   "metadata": {},
   "outputs": [
    {
     "name": "stderr",
     "output_type": "stream",
     "text": [
      "c:\\users\\kenny\\appdata\\local\\programs\\python\\python36\\lib\\site-packages\\ipykernel_launcher.py:9: DeprecationWarning: `imresize` is deprecated!\n",
      "`imresize` is deprecated in SciPy 1.0.0, and will be removed in 1.2.0.\n",
      "Use ``skimage.transform.resize`` instead.\n",
      "  if __name__ == '__main__':\n"
     ]
    }
   ],
   "source": [
    "import scipy.misc\n",
    "\n",
    "data = pickle.load(open('MinecraftCaption.pkl','rb'))\n",
    "vocab = data[0]\n",
    "vocab2index = data[1]\n",
    "index2vocab = data[2]\n",
    "images = data[3]\n",
    "\n",
    "images = [np.array(scipy.misc.imresize(image,0.25)/255.,dtype='float32') for image in images]\n",
    "captions = data[4]"
   ]
  },
  {
   "cell_type": "markdown",
   "metadata": {},
   "source": [
    "The pickle contains a tuple of:\n",
    "\n",
    "vocabulary -- a set consisting of all of the words found in the caption dataset\n",
    "\n",
    "vocabulary to index -- a dictionary where the keys are words and the values are the associated indices for a One-Hot encoding\n",
    "\n",
    "index to vocabulary -- Vice versa of the previous\n",
    "\n",
    "images -- The images (as numpy tensors) that make up the dataset\n",
    "\n",
    "captions -- The sentences (as a list of list of words) that make up the caption portion of the dataset\n"
   ]
  },
  {
   "cell_type": "code",
   "execution_count": 3,
   "metadata": {},
   "outputs": [
    {
     "data": {
      "image/png": "[encoded data removed]",
      "text/plain": [
       "<Figure size 432x288 with 1 Axes>"
      ]
     },
     "metadata": {
      "needs_background": "light"
     },
     "output_type": "display_data"
    },
    {
     "name": "stdout",
     "output_type": "stream",
     "text": [
      "I'm in the desert and see mountains in the distance\n"
     ]
    },
    {
     "data": {
      "image/png": "[encoded data removed]",
      "text/plain": [
       "<Figure size 432x288 with 1 Axes>"
      ]
     },
     "metadata": {
      "needs_background": "light"
     },
     "output_type": "display_data"
    },
    {
     "name": "stdout",
     "output_type": "stream",
     "text": [
      "I'm standing in a snowy field and see some trees\n"
     ]
    },
    {
     "data": {
      "image/png": "[encoded data removed]",
      "text/plain": [
       "<Figure size 432x288 with 1 Axes>"
      ]
     },
     "metadata": {
      "needs_background": "light"
     },
     "output_type": "display_data"
    },
    {
     "name": "stdout",
     "output_type": "stream",
     "text": [
      "I'm in a grassy field and see a pig\n"
     ]
    }
   ],
   "source": [
    "%matplotlib inline\n",
    "import matplotlib.pyplot as plt\n",
    "\n",
    "plt.imshow(images[0])\n",
    "plt.show()\n",
    "\n",
    "print(' '.join(captions[0]))\n",
    "\n",
    "\n",
    "plt.imshow(images[1])\n",
    "plt.show()\n",
    "\n",
    "print(' '.join(captions[1]))\n",
    "\n",
    "\n",
    "plt.imshow(images[2])\n",
    "plt.show()\n",
    "\n",
    "print(' '.join(captions[2]))\n"
   ]
  },
  {
   "cell_type": "markdown",
   "metadata": {},
   "source": [
    "First, we need to set up our captions for consumption by the Neural Network.  To do this, we will need to take our list of lists of words and turn it into a Tensor with dimensions\n",
    "\n",
    "data point x sequence step\n",
    "\n",
    "Now, you might be thinking, don't we need this to be a One-Hot encoding?  And the answer is \"Yes\", but we will be using a special embedding layer as the input to our LSTM that goes from One-Hot index to a vector of trainable weights.  In our case, this won't make much difference, but in datasets that have to cover an entire language it means we can have a Tensor filled with indices that get reduced down to a smaller dimensional space (say from 1,000,000 words down to a 256 dimensional vector) instead of keeping around a sparesely filled Tensor (that would have to have a million mostly unused entries).\n",
    "\n",
    "For the sake of being able to batch (instead of running one at a time) we will need to pad all of our sequences to the length of the largest sequence found in our dataset.\n",
    "\n",
    "1. Loop through the captions and construct a list consisting of the lengths (plus one -- we'll get to this in a second) of the captions\n",
    "\n",
    "2. Find the maximum of those lengths\n",
    "\n",
    "3. Go through all of the captions and construct the one-hot encoding\n",
    "\n",
    "The easiest way to construct the one-hot encoding is to use a list comprehension for each line in the caption\n",
    "\n",
    "`one_hot = [expression_that_turns_a_word_into_an_index(word) for word in caption]`\n",
    "\n",
    "(Think about what we have that can go from word to index)\n",
    "\n",
    "However, this isn't quite all we need to do.  As it is, we have captions with different lengths, and PyTorch doesn't allow for jagged Tensors, so we will need to pad our Tensors (this step wouldn't be required if we were doing non-batched SGD, but we will be batching so it is required).  Even if we didn't want to pad our sequences, we would most likely want to use a special \"end of sequence\" word to indicate when to stop the auto-regressive generation (here we use `'<END>'`.\n",
    "\n",
    "So instead of the above we should do:\n",
    "\n",
    "\n",
    "`one_hot = [expression_that_turns_a_word_into_an_index(word) for word in caption] + [expression_that_turns_a_word_into_an_index('<END>')] * number_of_tokens_to_add_to_get_to_max_len`\n",
    "\n",
    "\n",
    "and we'll do that for every caption found in `captions`\n",
    "\n",
    "\n",
    "(Think about how many tokens you need to add to a sequence to reach the length of the maximum sequence.  If the left list is the same size as the maximum sequence how many tokens do you add?  If it is of size 0, how many tokens do you add?)\n",
    "\n",
    "We then need to turn the list of lists of caption indices into a tensor --\n",
    "\n",
    "`caption_ids = torch.tensor(caption_ids, dtype=torch.long)`\n",
    "\n",
    "\n",
    "\n"
   ]
  },
  {
   "cell_type": "code",
   "execution_count": 4,
   "metadata": {},
   "outputs": [],
   "source": [
    "captions = data[4]\n",
    "\n",
    "captionLengths = [] #to hold the list of caption lengths\n",
    "count = 0\n",
    "\n",
    "for row in captions:\n",
    "    for column in row:\n",
    "        count += len(column)\n",
    "    captionLengths.append(count+1)\n",
    "    count = 0\n",
    "\n",
    "#TODO calculate the maximum length + 1 for the captions\n",
    "max_len = 0\n",
    "\n",
    "for row in captionLengths:\n",
    "    if (row > max_len):\n",
    "        max_len = row\n",
    "\n",
    "#TODO turn the captions into a list of lists of integer indices indicating the one-hot encoding \n",
    "#they should all be padded with '<END>' at the end up to the maximum length + 1 calculated above\n",
    "\n",
    "caption_ids = None\n",
    "\n",
    "for i in range(len(captions)):\n",
    "    one_hot = [vocab2index[column] for column in captions[i]] + [vocab2index['<END>']] * (max_len - captionLengths[i])\n",
    "\n",
    "caption_ids = one_hot\n",
    "caption_ids = torch.tensor(caption_ids, dtype=torch.long)"
   ]
  },
  {
   "cell_type": "markdown",
   "metadata": {},
   "source": [
    "One final thing, to use the padding and batching, we would need to sort our inputs so that they are in descending order by length. \n",
    "\n",
    "I've actually found better results by randomly shuffling the data, so we'll be doing that, however we do need our array of lengths to be set to the maximum length, or Torch will get mad at us for having data in non-descending order."
   ]
  },
  {
   "cell_type": "code",
   "execution_count": 5,
   "metadata": {},
   "outputs": [
    {
     "name": "stdout",
     "output_type": "stream",
     "text": [
      "[76, 76, 76, 76, 76, 76, 76, 76, 76, 76, 76, 76, 76, 76, 76, 76, 76, 76, 76, 76, 76, 76, 76, 76, 76, 76, 76, 76, 76, 76, 76, 76, 76, 76, 76, 76, 76, 76, 76, 76, 76, 76, 76, 76, 76, 76, 76, 76, 76, 76, 76, 76, 76, 76, 76, 76, 76, 76, 76, 76, 76, 76, 76, 76, 76, 76, 76, 76, 76, 76, 76, 76, 76, 76, 76, 76, 76, 76, 76, 76, 76, 76, 76, 76, 76, 76, 76, 76, 76, 76, 76, 76, 76, 76, 76, 76, 76, 76, 76, 76, 76, 76, 76, 76, 76, 76, 76, 76, 76, 76, 76, 76, 76, 76, 76, 76, 76, 76, 76, 76, 76, 76, 76, 76, 76, 76, 76, 76, 76, 76, 76, 76, 76, 76, 76, 76, 76, 76, 76, 76, 76, 76, 76, 76, 76, 76, 76, 76, 76, 76, 76, 76, 76, 76, 76, 76, 76, 76, 76, 76, 76, 76, 76, 76, 76, 76, 76, 76, 76, 76, 76, 76, 76, 76, 76, 76, 76, 76, 76, 76, 76, 76, 76, 76, 76, 76, 76, 76, 76, 76, 76, 76, 76, 76, 76, 76, 76, 76, 76, 76, 76, 76, 76, 76, 76, 76, 76, 76, 76, 76, 76, 76, 76, 76, 76, 76, 76, 76, 76, 76, 76, 76, 76, 76, 76, 76, 76, 76, 76, 76, 76, 76, 76, 76, 76, 76, 76, 76, 76, 76, 76, 76, 76, 76, 76, 76, 76, 76, 76, 76, 76, 76, 76, 76, 76, 76, 76, 76, 76, 76, 76, 76, 76, 76, 76, 76, 76, 76, 76, 76, 76, 76, 76, 76, 76, 76, 76, 76, 76, 76, 76, 76, 76, 76, 76, 76, 76, 76, 76, 76, 76, 76, 76, 76, 76, 76, 76, 76, 76, 76, 76, 76, 76, 76, 76, 76, 76, 76, 76, 76, 76, 76, 76, 76, 76, 76, 76, 76, 76, 76, 76, 76, 76, 76, 76, 76, 76, 76, 76, 76, 76, 76, 76, 76, 76, 76, 76, 76, 76, 76, 76, 76, 76, 76, 76, 76, 76, 76, 76, 76, 76, 76, 76, 76, 76, 76, 76, 76, 76, 76, 76, 76, 76, 76, 76, 76, 76, 76, 76, 76, 76, 76, 76, 76, 76, 76, 76, 76, 76, 76, 76, 76, 76, 76, 76, 76, 76, 76, 76, 76, 76, 76, 76, 76, 76, 76, 76, 76, 76, 76, 76, 76, 76, 76, 76, 76, 76, 76, 76, 76, 76, 76, 76, 76, 76, 76, 76, 76, 76, 76, 76, 76, 76, 76, 76, 76, 76, 76, 76, 76, 76, 76, 76, 76, 76, 76, 76, 76, 76, 76, 76, 76, 76, 76, 76, 76, 76, 76, 76, 76, 76, 76, 76, 76, 76, 76, 76, 76, 76, 76, 76, 76, 76, 76, 76, 76, 76, 76, 76, 76, 76, 76, 76, 76, 76, 76, 76, 76, 76, 76, 76, 76, 76, 76, 76, 76, 76, 76, 76, 76, 76, 76, 76, 76, 76, 76, 76, 76, 76, 76, 76, 76, 76, 76, 76, 76, 76, 76, 76, 76, 76, 76, 76, 76, 76, 76, 76, 76, 76, 76, 76, 76, 76, 76, 76, 76, 76, 76, 76, 76, 76, 76, 76, 76, 76, 76, 76, 76, 76, 76, 76, 76, 76, 76, 76, 76, 76, 76, 76, 76, 76, 76, 76, 76, 76, 76, 76, 76, 76, 76, 76, 76, 76, 76, 76, 76, 76, 76, 76, 76, 76, 76, 76, 76, 76, 76, 76, 76, 76, 76, 76, 76, 76, 76, 76, 76, 76, 76, 76, 76, 76, 76, 76, 76, 76, 76, 76, 76, 76, 76, 76, 76, 76, 76, 76, 76, 76, 76, 76, 76, 76, 76, 76, 76, 76, 76, 76, 76, 76, 76, 76, 76, 76, 76, 76, 76, 76, 76, 76, 76, 76, 76, 76, 76, 76, 76, 76, 76, 76, 76, 76, 76, 76, 76, 76, 76, 76, 76, 76, 76, 76, 76, 76, 76, 76, 76, 76, 76, 76, 76, 76, 76, 76, 76, 76, 76, 76, 76, 76, 76, 76, 76, 76, 76, 76, 76, 76, 76, 76, 76, 76, 76, 76, 76, 76, 76, 76, 76, 76, 76, 76, 76, 76, 76, 76, 76, 76, 76, 76, 76, 76, 76, 76, 76, 76, 76, 76, 76, 76, 76, 76, 76, 76, 76, 76, 76, 76, 76, 76, 76, 76, 76, 76, 76, 76, 76, 76, 76, 76, 76, 76, 76, 76, 76, 76, 76, 76, 76, 76, 76, 76, 76, 76, 76, 76, 76, 76, 76, 76, 76, 76, 76, 76, 76, 76, 76, 76, 76, 76, 76, 76, 76, 76, 76, 76, 76, 76, 76, 76, 76, 76, 76, 76, 76, 76, 76, 76, 76, 76, 76, 76, 76, 76, 76, 76, 76, 76, 76, 76, 76, 76, 76, 76, 76, 76, 76, 76, 76, 76, 76, 76, 76, 76, 76, 76, 76, 76, 76, 76, 76, 76, 76, 76, 76, 76, 76, 76, 76, 76, 76, 76, 76, 76, 76, 76, 76, 76, 76, 76, 76, 76, 76, 76, 76, 76, 76, 76, 76, 76, 76, 76, 76, 76, 76, 76, 76, 76, 76, 76, 76, 76, 76, 76, 76, 76, 76, 76, 76, 76, 76, 76, 76, 76, 76, 76, 76, 76, 76, 76, 76, 76, 76, 76, 76, 76, 76, 76, 76, 76, 76, 76, 76, 76, 76, 76, 76, 76, 76, 76, 76, 76, 76, 76, 76, 76, 76, 76, 76, 76, 76, 76, 76, 76, 76, 76, 76, 76, 76, 76, 76, 76, 76, 76, 76, 76, 76, 76, 76, 76, 76, 76, 76, 76, 76, 76, 76, 76, 76, 76, 76, 76, 76, 76, 76, 76, 76, 76, 76, 76, 76, 76, 76, 76, 76, 76, 76, 76, 76, 76, 76, 76, 76, 76, 76, 76, 76, 76, 76, 76, 76, 76, 76, 76, 76, 76, 76, 76, 76, 76, 76, 76, 76, 76, 76, 76, 76, 76, 76, 76, 76, 76, 76, 76, 76, 76, 76, 76, 76, 76, 76, 76, 76, 76, 76, 76, 76, 76, 76, 76, 76]\n"
     ]
    }
   ],
   "source": [
    "lengths = captionLengths\n",
    "lengths = [max_len]*len(lengths) #max_len is 76\n",
    "\n",
    "print(lengths)"
   ]
  },
  {
   "cell_type": "markdown",
   "metadata": {},
   "source": [
    "As of now `images` is a list of numpy arrays (height x width x color channels) and we want to turn it into a 4-dimensional PyTorch Tensor with dimensions:\n",
    "\n",
    "data point x color x height x width\n",
    "\n",
    "First you will want to turn the list of images into a numpy Tensor with `np.array()`\n",
    "This will have dimensions:\n",
    "\n",
    "data point x height x width x color\n",
    "\n",
    "You will then want to convert this into a PyTorch tensor via `torch.from_numpy()`\n",
    "\n",
    "which will still have the dimensions:\n",
    "\n",
    "data point x height x width x color\n",
    "\n",
    "You will then want to use `.permute((dim1, dim2, dim3, dim4))` on the PyTorch Tensor which will rearrange the order of the dimensions.\n",
    "\n",
    "e.g. If you did `imageTensor.permute((3,2,1,0))` on a tensor with the dimensions \n",
    "\n",
    "data point x height x width x color\n",
    "\n",
    "it would produce a tensor with dimensions\n",
    "\n",
    "color x height x width x data point\n",
    "\n",
    "i.e. the 4th dimension is now first, the 3rd is now 2nd, the 2nd is now third and the first is last (0 indexed of course) \n",
    "\n"
   ]
  },
  {
   "cell_type": "code",
   "execution_count": 6,
   "metadata": {},
   "outputs": [
    {
     "name": "stdout",
     "output_type": "stream",
     "text": [
      "torch.Size([1000, 3, 30, 40])\n"
     ]
    }
   ],
   "source": [
    "#TODO turn the above image array into a Tensor\n",
    "\n",
    "imageTensorNP = np.array(images) #list of numpy images to numpy tensor\n",
    "\n",
    "imageTensor = torch.from_numpy(imageTensorNP) #numpy tensor to PyTorch tensor\n",
    "\n",
    "#batch_size, channels, height, width\n",
    "imageTensor = imageTensor.permute((0,3,1,2)) #pemute the PyTorch to be (data points, channels, height, width) instead of (data points, height, width, channels)\n",
    "print(imageTensor.shape)"
   ]
  },
  {
   "attachments": {
    "Untitled%20drawing.png": {
     "image/png": "[encoded data removed]"
    }
   },
   "cell_type": "markdown",
   "metadata": {},
   "source": [
    "Ok, we've set our data up, now we need to construct our networks.  We will be constructing two networks here.  \n",
    "\n",
    "To do this we will be crafting custom Modules.  A Module in PyTorch can be thought of as a custom layer or set of layers.  Here we will be using them to contain a number of different layers.  The only two things we need in a Module are:\n",
    "\n",
    "`__init__` -- The constructor\n",
    "\n",
    "`forward` -- What the module does in the forward pass\n",
    "\n",
    "PyTorch is really nice and uses a technique known as **autograd** that automatically computes the derivatives and makes the backwards pass on its own (assuming we are using functions that it knows how to differentiate).  We can even use arbitrary mathematics in our forward pass (assuming PyTorch knows how to differentiate the functions we are using).\n",
    "\n",
    "\n",
    "\n",
    "\n",
    "First let's make the Convolutional Encoder:\n",
    "![Untitled%20drawing.png](attachment:Untitled%20drawing.png)\n",
    "\n",
    "Our Encoder will take in a number of parameters:\n",
    "\n",
    "`channels` the number of filters we wish to use in our convolutions\n",
    "\n",
    "`embedding_size` the size of the vector that we will be encoding into\n",
    "\n",
    "For the sake of this model, we will be constructing an encoder with 3 convolutional layers.\n",
    "\n",
    "In the `__init__` method is where you will want to construct your layers -- for each layer you should construct:\n",
    "\n",
    "`torch.nn.Conv2d(input_channels, output_channels, kernel_size, stride, padding)`\n",
    "\n",
    "The convolutional layer -- \n",
    "I suggest using `kernel_size=3, stride=1, padding=1` for now, but later you can experiment with this.\n",
    "\n",
    "\n",
    "`torch.nn.BatchNorm2d(channels)` -- a Batch Normalization layer applied after the convolution.  Batch normalization is a regularization technique for Convolutional Neural Networks that scales the output of the convolution to a better range\n",
    "\n",
    "`torch.nn.MaxPool2d(kernel_size, stride, padding)` -- the Max Pooling layer -- I suggest using kernel_size=2, stride=2, padding=0\n",
    "\n",
    "After constructing a `Conv2d, BatchNorm2d,` and `MaxPool2d` for each of the 3 layers, we will need to construct a `Linear` layer to go from the output of the final max pooling to the size of our embedding.\n",
    "\n",
    "Now, at this point, it's a little tricky to figure out the dimensionality of the final max pooling (you can calculate it, knowing the # of channels, the kernel sizes, the strides, and the padding, but that's a bit tricky) -- put a placeholder number (say 999) in for the input_dimension for now.  This will eventually give you the error when you try to train your model below:\n",
    "\n",
    "\"...size mismatch, m1: [1 x ???], m2: [999 x 512]\"\n",
    "\n",
    "You will then need to replace the 999 with what is found in ??? -- note, that will differ based on the number of channels, so your `Linear` layer should be something like `Linear(channels*CONSTANT, embedding_size)` where `channels*CONSTANT` equals ???\n",
    "\n",
    "\n",
    "### Things to think about for the constructor:\n",
    "\n",
    "1. How many input channels does the first Convolutional layer have?  \n",
    "\n",
    "2. How many input channels does the second have?\n",
    "\n",
    "3. How many output channels does the first CNN layer have?\n",
    "\n",
    "4. How many output channels does the second have?\n",
    "\n",
    "\n",
    "Next, we need to use all of our constructed layers in our forward pass.\n",
    "\n",
    "Assuming you've named your layers as:\n",
    "\n",
    "`self.conv{i} self.bn{i} self.pool{i}`\n",
    "\n",
    "e.g. the first layer would be:\n",
    "\n",
    "`self.conv1, self.bn1, self.pool1`\n",
    "\n",
    "You can apply them a la:\n",
    "\n",
    "`#output after first convolution`\n",
    "\n",
    "`x = self.pool1(F.relu(self.bn1(self.conv1(x))))`\n",
    "\n",
    "After doing this for all of the layers, we will need to flatten our learned features.  The easiest way to do this is via `.reshape()`.\n",
    "\n",
    "`.reshape()` takes a tensor and turns it into a Tensor with the specified dimensions:\n",
    "\n",
    "e.g.\n",
    "\n",
    "`twoByThree = tensor.reshape(2,3)` would take any tensor that had 6 elements and put it into one that was 2 x 3\n",
    "\n",
    "a nice thing that PyTorch lets us do is use `-1` as a filler that will be figured out from the other dimensions, so since we want to go to from a 'data points x channels x ??unknown reduced width?? x ??unknown reduced height??' Tensor to a 'data points x (channels * ??unknown reduced width?? * ??unknown reduced height??)' we can just do:\n",
    "\n",
    "`x = x.reshape(x.size(0), -1)`\n",
    "\n",
    "Apply the final `Linear` layer and a `relu` activation and return the output of all of this"
   ]
  },
  {
   "cell_type": "code",
   "execution_count": 25,
   "metadata": {},
   "outputs": [],
   "source": [
    "class EncoderCNN(nn.Module):\n",
    "    def __init__(self, channels, embedding_size):\n",
    "        super(EncoderCNN, self).__init__()\n",
    "        \n",
    "        #TODO set up you Encoder CNN\n",
    "        self.channels = channels\n",
    "        #Input channels = 3\n",
    "        self.conv1 = torch.nn.Conv2d(in_channels=3, out_channels=1, kernel_size=3, stride=1, padding=1)\n",
    "        self.bn1 = torch.nn.BatchNorm2d(channels)\n",
    "        self.pool1 = torch.nn.MaxPool2d(kernel_size=2, stride=2, padding=0)\n",
    "        \n",
    "        self.conv2 = torch.nn.Conv2d(in_channels=3, out_channels=1, kernel_size=3, stride=1, padding=1)\n",
    "        self.bn2 = torch.nn.BatchNorm2d(channels)\n",
    "        self.pool2 = torch.nn.MaxPool2d(kernel_size=2, stride=2, padding=0)\n",
    "        \n",
    "        self.conv3 = torch.nn.Conv2d(in_channels=3, out_channels=1, kernel_size=3, stride=1, padding=1)\n",
    "        self.bn3 = torch.nn.BatchNorm2d(channels)\n",
    "        self.pool3 = torch.nn.MaxPool2d(kernel_size=2, stride=2, padding=0)\n",
    "        \n",
    "        self.embed = torch.nn.Linear(in_features=999, out_features=embedding_size)\n",
    "        \n",
    "    def forward(self, x):\n",
    "        #TODO apply the 3 convolutional layers (convolution, batch norm, relu, pool)\n",
    "        \n",
    "        x = self.pool1(F.relu(self.bn1(self.conv1(x))))\n",
    "        x = self.pool2(F.relu(self.bn2(self.conv2(x))))\n",
    "        x = self.pool3(F.relu(self.bn3(self.conv3(x))))\n",
    "        \n",
    "        #TODO reshape the data\n",
    "        \n",
    "        x = x.reshape(x.size(0), -1)\n",
    "        \n",
    "        #TODO embed the output and apply a ReLU activation\n",
    "        \n",
    "        x = F.relu(self.embed(x)) #relu\n",
    "        \n",
    "        return x"
   ]
  },
  {
   "cell_type": "markdown",
   "metadata": {},
   "source": [
    "Now we need to construct our LSTM based Decoder.\n",
    "\n",
    "Our Decoder takes in a few more parameters than our Encoder did.\n",
    "\n",
    "`embedding_size` -- the size of the embedding, this should match the embedding_size above\n",
    "\n",
    "`hidden_size` -- the number of hidden nodes in each LSTM layer\n",
    "\n",
    "`vocab_size` -- the number of unique words in our vocabulary\n",
    "\n",
    "`num_layers` -- the number of LSTM layers to use\n",
    "\n",
    "\n",
    "As mentioned above, we will be using an `Embedding` layer to go from One-Hot indices into a embedded space (of the same dimensionality as our EncoderCNN embeds into, of course).\n",
    "\n",
    "So, we need to construct a `nn.Embedding(vocab_size, embedding_size)` that will take our inputs (currently integers indicating the one-hot encoding index) and embed them into a different dimensionality (our provided embedding size).\n",
    "\n",
    "\n",
    "Then we construct the LSTM layers -- unlike above, the LSTM module in PyTorch allows us to construct all of our layers in 1 module `nn.LSTM(embedding_size, hidden_size, num_layers, batch_first=True)`  -- since we are doing batching, we need to tell our LSTM that it can batch across our first dimension.\n",
    "\n",
    "Finally, after the LSTMs we will need to do a Softmax regression going to the size of our vocab (since we are predicting words from our vocab) -- so we need a `nn.Linear(hidden_size, vocab_size)`\n",
    "\n",
    "\n",
    "In the forward pass, we need to:\n",
    "\n",
    "1. Embed the captions\n",
    "2. Concatenate the EncoderCNN features to the embedded captions\n",
    "3. Pack the concatenated sequence so that we can do batching\n",
    "4. Call the LSTM layer on the packed sequence\n",
    "5. Apply the linear layer -- in a move that will maybe seem a bit confusing here, **don't** apply a Softmax activation\n",
    "\n",
    "\n",
    "2. and 3. are a little unintuitive, so they are taken care of for you \n",
    "\n",
    "\n",
    "the output of calling the LSTM on the packed sequence are:\n",
    "\n",
    "`output, (h_n, c_n) = self.lstm(????)` \n",
    "\n",
    "where \n",
    "\n",
    "`output` is \"tensor containing the output features (h_t) from the last layer of the LSTM, for each t.\" If we only cared about the last output feature, we could use (h_n and c_n), but since we are doing a decoding of all of our steps, we instead will use the output (again, since we are using the packed_padded_sequence, we need to do things a little differently, and will only be using `output[0]`) \n",
    "\n",
    "Apply the `Linear` activation to `output[0]` and return that."
   ]
  },
  {
   "cell_type": "code",
   "execution_count": 26,
   "metadata": {},
   "outputs": [],
   "source": [
    "class DecoderRNN(nn.Module):\n",
    "    def __init__(self, embed_size, hidden_size, vocab_size, num_layers, max_seq_length=20):\n",
    "        super(DecoderRNN, self).__init__()\n",
    "        \n",
    "        #TODO -- set up the parameters for the Decoder LSTM\n",
    "        self.embed = nn.Embedding(vocab_size, embed_size)\n",
    "        self.lstm = nn.LSTM(embed_size, hidden_size, num_layers, batch_first=True)\n",
    "        self.linear = nn.Linear(hidden_size, vocab_size)\n",
    "        self.max_seg_length = max_seq_length\n",
    "        \n",
    "    def forward(self, features, captions, lengths):\n",
    "        #TODO 1. Embed\n",
    "        embeddings = None\n",
    "        \n",
    "        #2. Concatenate the encoded features\n",
    "        embeddings = torch.cat((features.unsqueeze(1), embeddings), 1)\n",
    "        #3. Pack the padded sequence\n",
    "        packed = pack_padded_sequence(embeddings, lengths, batch_first=True) \n",
    "        \n",
    "        #TODO 4. Apply the linear output\n",
    "        \n",
    "        return outputs\n",
    "        \n",
    "    \n",
    " \n",
    "    def sample(self, features, states=None):\n",
    "        #This does a greedy decoding ( the outputs.max line)\n",
    "        sampled_ids = []\n",
    "        inputs = features.unsqueeze(1)\n",
    "        for i in range(self.max_seg_length):\n",
    "            hiddens, states = self.lstm(inputs, states)          \n",
    "            outputs = self.linear(hiddens.squeeze(1))            \n",
    "            _, predicted = outputs.max(1)                        \n",
    "            sampled_ids.append(predicted)\n",
    "            inputs = self.embed(predicted)                       \n",
    "            inputs = inputs.unsqueeze(1)                         \n",
    "        sampled_ids = torch.stack(sampled_ids, 1)                \n",
    "        return sampled_ids"
   ]
  },
  {
   "cell_type": "markdown",
   "metadata": {},
   "source": [
    "Now that we have defined our Modules, we construct them here."
   ]
  },
  {
   "cell_type": "code",
   "execution_count": 27,
   "metadata": {},
   "outputs": [],
   "source": [
    "embed_size = 512\n",
    "hidden_size = 256\n",
    "channels = 256\n",
    "num_layers = 3\n",
    "\n",
    "encoder = EncoderCNN(channels, embed_size)\n",
    "decoder = DecoderRNN(embed_size,hidden_size, len(vocab), num_layers)"
   ]
  },
  {
   "cell_type": "markdown",
   "metadata": {},
   "source": [
    "We need to set up our parameters (gotten from our modules by calling `.parameters()`) and our optimizer (I recommend the Adam (no relation) optimizer).\n",
    "\n",
    "Earlier, we didn't apply a Softmax layer, and that's because Torch gives us a special loss function `nn.CrossEntropyLoss` that combines a standard Softmax activation and Negative Log Cross Entropy loss into one (running a bit faster and resulting in better numerical stability)."
   ]
  },
  {
   "cell_type": "code",
   "execution_count": null,
   "metadata": {},
   "outputs": [],
   "source": [
    "learning_rate =0.0001\n",
    "criterion = nn.CrossEntropyLoss()\n",
    "params = list(decoder.parameters()) + list(encoder.parameters()) \n",
    "optimizer = torch.optim.Adam(params, lr=learning_rate)"
   ]
  },
  {
   "cell_type": "markdown",
   "metadata": {},
   "source": [
    "Now it is time to train our model.  Train the model until it seems like it has converged -- Loss around 0.1-0.2 is what I found to be acceptable."
   ]
  },
  {
   "cell_type": "code",
   "execution_count": null,
   "metadata": {
    "scrolled": true
   },
   "outputs": [],
   "source": [
    "import random\n",
    "batch_size = 4\n",
    "num_epochs = 15\n",
    "log_step = 10\n",
    "batches = list(range(0,imageTensor.shape[0],batch_size))\n",
    "\n",
    "for epoch in range(num_epochs):\n",
    "    random.shuffle(batches)\n",
    "    for bid, batch in enumerate(batches):\n",
    "        batch_image = imageTensor[batch:batch+batch_size,:,:,:]\n",
    "        batch_captions = caption_ids[batch:batch+batch_size,:]\n",
    "        batch_lengths = lengths[batch:batch+batch_size]\n",
    "        features = encoder(batch_image)\n",
    "        outputs = decoder(features, batch_captions, batch_lengths)\n",
    "        targets = pack_padded_sequence(batch_captions, batch_lengths, batch_first=True)[0]\n",
    "            \n",
    "        loss = criterion(outputs, targets)\n",
    "        decoder.zero_grad()\n",
    "        encoder.zero_grad()\n",
    "        loss.backward()\n",
    "        optimizer.step()\n",
    "        if bid % log_step == 0:\n",
    "            print('Epoch [{}/{}], Step [{}/{}], Loss: {:.4f}, Perplexity: {:5.4f}'\n",
    "                  .format(epoch, num_epochs, bid,len(batches),  loss.item(), np.exp(loss.item()))) "
   ]
  },
  {
   "cell_type": "markdown",
   "metadata": {},
   "source": [
    "Now, let's see the fruits of our labor!"
   ]
  },
  {
   "cell_type": "code",
   "execution_count": null,
   "metadata": {},
   "outputs": [],
   "source": [
    "#Change this to see how it handles different images\n",
    "batch = 5\n",
    "\n",
    "\n",
    "decoder.zero_grad()\n",
    "batch_image = imageTensor[batch:batch+batch_size,:,:,:]\n",
    "batch_captions = caption_ids[batch:batch+batch_size,:]\n",
    "features = encoder(batch_image)\n",
    "outputs = decoder.sample(features)\n",
    "\n",
    "for num,caption in enumerate(outputs):\n",
    "    plt.imshow(images[batch+num])\n",
    "    plt.show()\n",
    "    print('PREDICTED: ' + ' '.join([index2vocab[w] for w in caption.numpy() if index2vocab[w] != '<END>']))\n",
    "    print('TRUTH:' + ' '.join(captions[batch+ num]))"
   ]
  },
  {
   "cell_type": "markdown",
   "metadata": {},
   "source": [
    "Extra Credit:\n",
    "\n",
    "Try to play around with the architectures and see if you can get a better result than the model that I've lead you through.\n",
    "\n",
    "Things to consider:\n",
    "\n",
    "Different Convolutional Architecture\n",
    "\n",
    "Regularization \n",
    "\n",
    "Different dimensions/numbers of layers\n",
    "\n",
    "Attention\n",
    "\n",
    "Beam-Search"
   ]
  },
  {
   "cell_type": "code",
   "execution_count": null,
   "metadata": {},
   "outputs": [],
   "source": []
  }
 ],
 "metadata": {
  "kernelspec": {
   "display_name": "Python 3",
   "language": "python",
   "name": "python3"
  },
  "language_info": {
   "codemirror_mode": {
    "name": "ipython",
    "version": 3
   },
   "file_extension": ".py",
   "mimetype": "text/x-python",
   "name": "python",
   "nbconvert_exporter": "python",
   "pygments_lexer": "ipython3",
   "version": "3.6.7rc2"
  }
 },
 "nbformat": 4,
 "nbformat_minor": 2
}
