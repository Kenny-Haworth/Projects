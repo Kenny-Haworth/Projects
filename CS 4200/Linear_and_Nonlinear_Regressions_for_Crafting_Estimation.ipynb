{
 "cells": [
  {
   "cell_type": "markdown",
   "metadata": {},
   "source": [
    "**Crafting Time Estimation**\n",
    "\n",
    "In this assignment, we will be using regressions, of both the linear and non-linear persuasions.  We will be using these to create estimates in the amount of time required to get from a given crafting state to another crafting state, i.e. to produce a heuristic cost for the planning done in homework 2.  \n",
    "\n",
    "\n",
    "We will be constructing the following models:\n",
    "\n",
    "1. A linear regression solved via raw matrix operations, as discussed in class\n",
    "2. A linear regression solved via numpy's library\n",
    "3. A linear regression solved via Stochastic Gradient Descent with an artificial neural network\n",
    "4. A linear regression using a deep artificial neural network\n",
    "5. A non-linear regression using a deep artificial neural network\n",
    "\n",
    "Finally, the non-linear regression will be used as the heuristic in an A* search of the planning space "
   ]
  },
  {
   "cell_type": "markdown",
   "metadata": {},
   "source": [
    "Our first step is to read the data in a form that is conducive for regression.  The data is a CSV file where the first row are the names of each column.  "
   ]
  },
  {
   "cell_type": "code",
   "execution_count": 1,
   "metadata": {},
   "outputs": [
    {
     "name": "stdout",
     "output_type": "stream",
     "text": [
      "time\n",
      "initial_bench\n",
      "initial_cart\n",
      "initial_coal\n",
      "initial_cobble\n",
      "initial_furnace\n",
      "initial_ingot\n",
      "initial_iron_axe\n",
      "initial_iron_pickaxe\n",
      "initial_ore\n",
      "initial_plank\n",
      "initial_rail\n",
      "initial_stick\n",
      "initial_stone_axe\n",
      "initial_stone_pickaxe\n",
      "initial_wood\n",
      "initial_wooden_axe\n",
      "initial_wooden_pickaxe\n",
      "goal_bench\n",
      "goal_cart\n",
      "goal_coal\n",
      "goal_cobble\n",
      "goal_furnace\n",
      "goal_ingot\n",
      "goal_iron_axe\n",
      "goal_iron_pickaxe\n",
      "goal_ore\n",
      "goal_plank\n",
      "goal_rail\n",
      "goal_stick\n",
      "goal_stone_axe\n",
      "goal_stone_pickaxe\n",
      "goal_wood\n",
      "goal_wooden_axe\n",
      "goal_wooden_pickaxe\n",
      "(30000, 35)\n"
     ]
    }
   ],
   "source": [
    "import numpy as np\n",
    "#Open the file\n",
    "with open('crafting_times.csv','r') as infile:\n",
    "    #Get the header line\n",
    "    header = infile.readline().rstrip().split(',')\n",
    "    data = []\n",
    "    #Read it in\n",
    "    for line in infile:\n",
    "        data.append([float(s) for s in line.rstrip().split(',')])\n",
    "    #turn our list of lists into a numpy array\n",
    "    data = np.array(data)\n",
    "    \n",
    "print('\\n'.join(header))\n",
    "print(data.shape)"
   ]
  },
  {
   "cell_type": "markdown",
   "metadata": {},
   "source": [
    "We see that the columns are: \n",
    "0 -- The time it takes\n",
    "1-17 -- The initial state\n",
    "18-35 -- The goal state\n",
    "\n",
    "Now, we need to construct our X and Y matrices.\n",
    "\n",
    "Luckily, *slicing* is very easy to do with numpy arrays.  *Slicing* is where we can easily specify how to take subsets of our matrix.  Think of it like indexing into an array, only we can do a lot of them at once.\n",
    "\n",
    "\n",
    "The general syntax is:\n",
    "\n",
    "`vector[a:b]`\n",
    "`matrix[a:b,c:d]` \n",
    "`tensor[a:b,c:d,e:f]`\n",
    "\n",
    "As a note, `a, b, c, d, e, f` are the indices you wish to get -- if `a` is blank it will start from the beginning and if `b` is blank it will go until the end.  Note: these can also be negative, which can be thought of as `n` away from the end.\n",
    "\n",
    "Some examples:\n",
    "\n",
    "`data[:,0]` -- Get all of the members of the first column \n",
    "`data[:,-1]` -- Get all of the members of the last column\n",
    "`data[:a,1:]` -- Get the first `a` rows for the 2nd to last columns\n",
    "`data[a:,1:]` -- Get all of the rows starting at `a` for the 2nd to last columns\n",
    "\n",
    "As a note, you can get the dimensions of a numpy array by accessing `.shape`, a tuple of the dimensions"
   ]
  },
  {
   "cell_type": "code",
   "execution_count": 2,
   "metadata": {},
   "outputs": [
    {
     "name": "stdout",
     "output_type": "stream",
     "text": [
      "9000\n"
     ]
    }
   ],
   "source": [
    "# We want to use a training/validation split to verify we are doing a good job\n",
    "validation_split = 0.3\n",
    "\n",
    "# TODO slice the data into the correct matrices for training and validation splits\n",
    "# Let the first N*validation_split rows be for the validation set\n",
    "# and the last N*(1-validation_split) rows be the training data\n",
    "threshold: int = int(data.shape[0] * validation_split)\n",
    "print(threshold)\n",
    "\n",
    "Y_total: np.array = data[:, :1] #get all rows and the first column\n",
    "Y: np.array = Y_total[threshold:, :] #begin at threshold rows and go to end. Take all columns.\n",
    "Y_validation: np.array = Y_total[:threshold, :] #take up to threshold rows, take all columns\n",
    "\n",
    "X_total: np.array = data[:, 1:] #get all rows and the everything but the first column\n",
    "X: np.array = X_total[threshold: , :] #begin at threshhold rows and go to end, take all columns\n",
    "X_validation = X_total[:threshold, :] #take up to threshold rows, take all columns"
   ]
  },
  {
   "cell_type": "markdown",
   "metadata": {},
   "source": [
    "Now we will use Least Squares Regression to estimate the time cost associated with a given state and end state.  \n",
    "\n",
    "The least squares regression coefficients can be calculated via the closed form solution:\n",
    "\n",
    "$\\beta =  (X^T X)^{-1} X^T Y$\n",
    "\n",
    "First try it out with using `np.dot` (anywhere there is a matrix multiplication) and `np.inv` (anywhere there is a matrix inversion. (as a note, matrix transposition is accomplished with `.T`)\n",
    "\n",
    "Next, compare using `np.linalg.lstsq` -- numpy's built in least squares regression (that is much more stable than using the matrix inversion found here)."
   ]
  },
  {
   "cell_type": "code",
   "execution_count": 3,
   "metadata": {
    "scrolled": true
   },
   "outputs": [
    {
     "name": "stdout",
     "output_type": "stream",
     "text": [
      "[[ 2.71782596e-13]\n",
      " [ 1.95932159e-12]\n",
      " [-2.23432384e-15]\n",
      " [-3.41948692e-14]\n",
      " [-2.91322522e-13]\n",
      " [-6.43929354e-14]\n",
      " [ 4.37871961e-13]\n",
      " [ 3.86579657e-13]\n",
      " [ 5.24580379e-15]\n",
      " [-3.01980663e-14]\n",
      " [-1.31006317e-14]\n",
      " [-2.19824159e-14]\n",
      " [-3.73034936e-14]\n",
      " [-6.21724894e-14]\n",
      " [ 2.38142839e-14]\n",
      " [-4.17443857e-14]\n",
      " [-2.13162821e-14]\n",
      " [ 8.58202398e-14]\n",
      " [-1.13686838e-13]\n",
      " [-1.95399252e-14]\n",
      " [ 3.10862447e-15]\n",
      " [-8.88178420e-14]\n",
      " [-1.42108547e-13]\n",
      " [ 6.11066753e-13]\n",
      " [-5.96855898e-13]\n",
      " [ 9.94759830e-14]\n",
      " [ 7.54951657e-15]\n",
      " [-2.62900812e-13]\n",
      " [-2.25375274e-14]\n",
      " [ 9.05941988e-14]\n",
      " [ 8.57092175e-14]\n",
      " [-2.66453526e-15]\n",
      " [-1.33226763e-13]\n",
      " [-3.01980663e-14]]\n"
     ]
    },
    {
     "name": "stderr",
     "output_type": "stream",
     "text": [
      "c:\\users\\kenny\\appdata\\local\\programs\\python\\python36\\lib\\site-packages\\ipykernel_launcher.py:11: FutureWarning: `rcond` parameter will change to the default of machine precision times ``max(M, N)`` where M and N are the input matrix dimensions.\n",
      "To use the future default and silence this warning we advise to pass `rcond=None`, to keep using the old, explicitly pass `rcond=-1`.\n",
      "  # This is added back by InteractiveShellApp.init_path()\n"
     ]
    }
   ],
   "source": [
    "#Least Squares Estimation Goes Here\n",
    "\n",
    "#TODO replace the np.zeros() with the correct code\n",
    "\n",
    "def calculate_weights_with_linear_algebra(X: np.array, Y: np.array) -> np.array:\n",
    "\n",
    "    return np.dot(np.dot(np.linalg.inv((np.dot(X.T, X))), X.T), Y)\n",
    "    #return np.matmul(np.matmul(np.invert((np.matmul(X, X.T)).astype(np.int)), X.T), Y)\n",
    "\n",
    "def calculate_weights_with_library(X: np.array, Y: np.array) -> np.array:\n",
    "    return np.linalg.lstsq(X,Y)[0]\n",
    "\n",
    "\n",
    "B_raw = calculate_weights_with_linear_algebra(X,Y)\n",
    "B_lstsq = calculate_weights_with_library(X,Y)\n",
    "\n",
    "#This should be small, mostly in the 1e-13 to 1e-14 range\n",
    "print(B_raw-B_lstsq)"
   ]
  },
  {
   "cell_type": "markdown",
   "metadata": {},
   "source": [
    "Now we want to test our coefficients and see how well we predict the answer.  To do with we will need to use the weight vector we just learned.  Use `np.dot` to calculate:\n",
    "\n",
    "$\\hat{Y} = X\\beta$\n",
    "\n",
    "We will then calculate the *residual* the error that remains between our true times in Y and the calculated times in Yhat.\n",
    "\n",
    "$resid = Y-\\hat{Y} $\n",
    "\n",
    "We will then use these residuals to come up with a single number that tells us how well we did.  For this, we will be using the Root Mean Squared Error (RMSE)\n",
    "\n",
    "$RMSE = \\sqrt{\\frac{1}{N} \\sum (y-\\hat{y})^2}$\n",
    "\n",
    "To use, this we will use the elementwise multiplication (`a*b` not `np.dot(a,b)`), the square root (`np.sqrt`), and mean (``np.mean``) functions"
   ]
  },
  {
   "cell_type": "code",
   "execution_count": 4,
   "metadata": {
    "scrolled": true
   },
   "outputs": [
    {
     "name": "stdout",
     "output_type": "stream",
     "text": [
      "RMSE: 42.65085178953906\n",
      "RMSE Validation: 64.96719644690694\n"
     ]
    }
   ],
   "source": [
    "#TODO: Calculate Yhat, the residuals and RMSE for both the training and validation sets\n",
    "\n",
    "def calculate_yhat(X: np.array, B: np.array) -> np.array:\n",
    "    return np.dot(X, B)\n",
    "\n",
    "def calculate_residuals(Y: np.array, Yhat: np.array) -> np.array:\n",
    "    return Y - Yhat\n",
    "\n",
    "def calculate_rmse(residuals: np.array) -> float:\n",
    "    return np.sqrt(np.mean(np.square(residuals)))\n",
    "\n",
    "\n",
    "Yhat = calculate_yhat(X, B_raw)\n",
    "Yhat_validation = calculate_yhat(X_validation, B_raw)\n",
    "\n",
    "residuals  = calculate_residuals(Y, Yhat)\n",
    "residuals_validation  = calculate_residuals(Y_validation, Yhat_validation)\n",
    "\n",
    "rmse = calculate_rmse(residuals)\n",
    "rmse_validation = calculate_rmse(residuals_validation)\n",
    "\n",
    "print('RMSE:',rmse)\n",
    "print('RMSE Validation:',rmse_validation)\n"
   ]
  },
  {
   "cell_type": "code",
   "execution_count": 21,
   "metadata": {},
   "outputs": [
    {
     "data": {
      "image/png": "[encoded data removed]",
      "text/plain": [
       "<Figure size 432x288 with 1 Axes>"
      ]
     },
     "metadata": {
      "needs_background": "light"
     },
     "output_type": "display_data"
    }
   ],
   "source": [
    "import matplotlib.pyplot as plt\n",
    "\n",
    "#Now let's plot our points residuals\n",
    "#Often, we'd like to plot our data, but we have a 30+dimensional space, i.e. one that's hard to visualize\n",
    "plt.plot(Y,residuals,'x')\n",
    "plt.plot(Y_validation,residuals_validation,'r.')\n",
    "plt.show()"
   ]
  },
  {
   "cell_type": "markdown",
   "metadata": {},
   "source": [
    "Previously, we learned a weight vector, but because we didn't have a bias term, the weight vector has to go through the origin, which might not be what we want.  Let's try it all again with a bias term this time.\n",
    "\n",
    "To add a bias term, we will add a new column to our X matrix that is full of constants.  \n",
    "\n",
    "Does it matter what constant term we choose?\n",
    "\n",
    "The simplest way to do this is to use `hstack` which takes in a list of matrices and horizontally concatenates them (i.e. adds on new columns -- there exists a `vstack` that adds new rows).  The simpleest way to construct a constant term is to use `np.ones` which takes in a list with the number of ones to make for each dimension.\n",
    "\n",
    "e.g.\n",
    "`np.ones([4,2])` will make\n",
    "\n",
    "1 1\n",
    "\n",
    "1 1 \n",
    "\n",
    "1 1\n",
    "\n",
    "1 1"
   ]
  },
  {
   "cell_type": "code",
   "execution_count": 6,
   "metadata": {},
   "outputs": [
    {
     "name": "stdout",
     "output_type": "stream",
     "text": [
      "RMSE with bias term: 37.20703983274873\n",
      "RMSE Validation with bias term: 57.37765716615744\n"
     ]
    },
    {
     "name": "stderr",
     "output_type": "stream",
     "text": [
      "c:\\users\\kenny\\appdata\\local\\programs\\python\\python36\\lib\\site-packages\\ipykernel_launcher.py:11: FutureWarning: `rcond` parameter will change to the default of machine precision times ``max(M, N)`` where M and N are the input matrix dimensions.\n",
      "To use the future default and silence this warning we advise to pass `rcond=None`, to keep using the old, explicitly pass `rcond=-1`.\n",
      "  # This is added back by InteractiveShellApp.init_path()\n"
     ]
    },
    {
     "data": {
      "image/png": "[encoded data removed]",
      "text/plain": [
       "<Figure size 432x288 with 1 Axes>"
      ]
     },
     "metadata": {
      "needs_background": "light"
     },
     "output_type": "display_data"
    }
   ],
   "source": [
    "X_with_bias = np.hstack((X, np.ones([X.shape[0], 1])))\n",
    "X_validation_with_bias = np.hstack((X_validation, np.ones([X_validation.shape[0], 1])))\n",
    "\n",
    "B_with_bias = calculate_weights_with_library(X_with_bias, Y)\n",
    "\n",
    "Yhat_with_bias = calculate_yhat(X_with_bias, B_with_bias)\n",
    "Yhat_validation_with_bias = calculate_yhat(X_validation_with_bias, B_with_bias)\n",
    "\n",
    "residuals_with_bias  = calculate_residuals(Y, Yhat_with_bias)\n",
    "residuals_validation_with_bias  = calculate_residuals(Y_validation, Yhat_validation_with_bias)\n",
    "\n",
    "rmse_with_bias = calculate_rmse(residuals_with_bias)\n",
    "rmse_validation_with_bias = calculate_rmse(residuals_validation_with_bias)\n",
    "\n",
    "\n",
    "print('RMSE with bias term:',rmse_with_bias)\n",
    "print('RMSE Validation with bias term:',rmse_validation_with_bias)\n",
    "\n",
    "plt.plot(Y,residuals_with_bias,'x')\n",
    "plt.plot(Y_validation,residuals_validation_with_bias,'ro')\n",
    "plt.show()"
   ]
  },
  {
   "cell_type": "markdown",
   "metadata": {},
   "source": [
    "Now we are going to use artificial neural networks. We are going to be using PyTorch, one of the leading deep learning libraries.  Check https://pytorch.org/ to determine how to install PyTorch on your system. PyTorch can be run on the cpu or you can use the CUDA enabled version.  However, for this work, I am assuming you will be running on a CPU.  If you write your code to run on the GPU, make sure it is in a way that defaults to a cpu.  If you don't know how to do that, just don't do anything and it will default to the CPU.\n",
    "\n",
    "\n",
    "\n",
    "\n",
    "First lets use stochastic gradient descent to train a weight vector as we did above.  \n",
    "\n",
    "PyTorch lets us do this in a number of ways, but we will be doing the easiest possible one.  We are going to construct a `Sequential` model, with a `Linear` layer as its sole argument. `Sequential` can take in an arbitrary number of arguments, where each one is a layer that will be applied in the order that it is passed in.\n",
    "\n",
    "The parameters you care about for `Linear` are:\n",
    "\n",
    "`Linear(in_features, out_features, bias=True)`\n",
    "    \n",
    "`in_features` is the dimensionality of our input space -- in this case it will be the number of columns found in our X data\n",
    "`out_features` is the dimensionality of the output space -- in this case, it will be 1 (all of our final `out_features` will always be 1, as our output is the single number we are predicting).  \n",
    "\n"
   ]
  },
  {
   "cell_type": "code",
   "execution_count": 7,
   "metadata": {},
   "outputs": [
    {
     "name": "stdout",
     "output_type": "stream",
     "text": [
      "[Parameter containing:\n",
      "tensor([[-0.1223,  0.0105, -0.1440,  0.0398, -0.1417,  0.1419,  0.1090, -0.1117,\n",
      "         -0.0727, -0.0471,  0.1633, -0.0782,  0.1279, -0.0143,  0.0193,  0.0014,\n",
      "          0.1477, -0.1093, -0.0126,  0.0269, -0.0923, -0.0104,  0.1670, -0.0056,\n",
      "         -0.0697, -0.0711, -0.0142, -0.0619, -0.0947,  0.0332, -0.1449,  0.0832,\n",
      "          0.1226, -0.0139]], requires_grad=True), Parameter containing:\n",
      "tensor([-0.0778], requires_grad=True)]\n"
     ]
    }
   ],
   "source": [
    "import torch\n",
    "\n",
    "# TODO construct the model\n",
    "# Define a neural network model as a stack of layers\n",
    "model = torch.nn.Sequential(torch.nn.Linear(X.shape[1], 1, bias=True))\n",
    "\n",
    "print(list(model.parameters()))"
   ]
  },
  {
   "cell_type": "markdown",
   "metadata": {},
   "source": [
    "Given our model, it's now time to train it.  First we need to convert our numpy matrices into PyTorch Tensors.  \n",
    "\n",
    "Then we need to set up a couple of things --\n",
    "\n",
    "First, we need to choose which optimizer we are going to use.  For this, let's just go with simple stochastic gradient descent.  `torch.optim.SGD(model.parameters(),lr=LR)` -- you'll need to pick a learning rate.  It's usually best to pick something relatively small, like say 0.01.\n",
    "\n",
    "Then we need to choose our loss function.  If our goal is to do a regression, we should choose the loss function we chose before, i.e. Mean Square Error --  `torch.nn.MSELoss()`\n",
    "\n",
    "\n",
    "Then, we need to loop over our dataset a number of times, i.e. a number of *epochs*.  At each step of the process we need to:\n",
    "\n",
    "1. Zero the gradients from the previous epoch -- `optimizer.zero_grad()` and `model.zero_grad()`\n",
    "2. Run the model in the forward direction -- `Yhat = model.forward(Xt)`\n",
    "3. Calculate the loss between our predictions and the truth -- `loss = loss_fn(Yhat,Yt)`\n",
    "4. Calculate back propagation of the loss through the network -- `loss.backward()`\n",
    "5. Run the stochastic gradient descent and update the weights -- `optimizer.step()`\n",
    "\n",
    "Some libraries hide all of these aspects, but PyTorch makes you do them explicitly.  It results in a little more code, but allows for some very fancy models (those involving different losses being calculated independently) to be done with very little change in the code."
   ]
  },
  {
   "cell_type": "code",
   "execution_count": 8,
   "metadata": {
    "scrolled": false
   },
   "outputs": [
    {
     "name": "stdout",
     "output_type": "stream",
     "text": [
      "0 9419.453125\n",
      "100 3034.1533203125\n",
      "200 2506.250244140625\n",
      "300 2254.27490234375\n",
      "400 2093.731689453125\n",
      "500 1976.47509765625\n",
      "600 1884.197509765625\n",
      "700 1808.75732421875\n",
      "800 1745.889892578125\n",
      "900 1692.971435546875\n",
      "1000 1648.17236328125\n",
      "1100 1610.1119384765625\n",
      "1200 1577.6981201171875\n",
      "1300 1550.0447998046875\n",
      "1400 1526.4212646484375\n",
      "1500 1506.21923828125\n",
      "1600 1488.9283447265625\n",
      "1700 1474.1192626953125\n",
      "1800 1461.4283447265625\n",
      "1900 1450.5472412109375\n",
      "2000 1441.21435546875\n",
      "2100 1433.206298828125\n",
      "2200 1426.3330078125\n",
      "2300 1420.4322509765625\n",
      "2400 1415.3651123046875\n",
      "2500 1411.012939453125\n",
      "2600 1407.2742919921875\n",
      "2700 1404.06201171875\n",
      "2800 1401.3016357421875\n",
      "2900 1398.9293212890625\n",
      "3000 1396.89013671875\n",
      "3100 1395.13720703125\n",
      "3200 1393.6302490234375\n",
      "3300 1392.33447265625\n",
      "3400 1391.2203369140625\n",
      "3500 1390.2623291015625\n",
      "3600 1389.4383544921875\n",
      "3700 1388.729736328125\n",
      "3800 1388.1202392578125\n",
      "3900 1387.5960693359375\n",
      "4000 1387.14501953125\n",
      "4100 1386.757080078125\n",
      "4200 1386.42333984375\n",
      "4300 1386.13623046875\n",
      "4400 1385.8892822265625\n",
      "4500 1385.6767578125\n",
      "4600 1385.4937744140625\n",
      "4700 1385.33642578125\n",
      "4800 1385.2010498046875\n",
      "4900 1385.08447265625\n"
     ]
    }
   ],
   "source": [
    "# Convert our numpy arrays to torch tensors\n",
    "Xt = torch.Tensor(X)\n",
    "# To make Yt match the shape of Yhat, we'll need it to be a slightly different shape\n",
    "Yt = torch.Tensor(Y.reshape((len(Y), 1)))\n",
    "\n",
    "\n",
    "def train(X: torch.Tensor, Y: torch.Tensor, model: torch.nn.Module, epochs: int) -> None:\n",
    "    # TODO set the optimizer and loss functions\n",
    "    optimizer = torch.optim.SGD(model.parameters(), lr=.01)\n",
    "\n",
    "    # TODO set the loss function\n",
    "    # We'll use mean squared error as our loss function\n",
    "    loss_fn = torch.nn.MSELoss()\n",
    "    for t in range(epochs):\n",
    "\n",
    "        # TODO do the training steps here\n",
    "        # 1. zero the gradient buffers\n",
    "        optimizer.zero_grad()\n",
    "        model.zero_grad()\n",
    "        # 1. Clear out the \"gradient\", i.e. the old update amounts\n",
    "        Yhat = model.forward(X)\n",
    "        # 2. Make a prediction\n",
    "        loss = loss_fn(Yhat, Y)\n",
    "        # 3. Calculate loss (the error of the residual)\n",
    "\n",
    "        if t % 100 == 0:\n",
    "            print(t, loss.item())\n",
    "\n",
    "        loss.backward()\n",
    "        # 4. Run the loss backwards through the graph\n",
    "        optimizer.step()\n",
    "        # 5. Run the optimizer to update the weights\n",
    "\n",
    "train(Xt, Yt, model, 5000)"
   ]
  },
  {
   "cell_type": "markdown",
   "metadata": {},
   "source": [
    "Now we want to see how it did.  We will plot the residuals (i.e. the error) for both our training set and our validation set.  It is always important to have a validation set, as it will let us see how well our model is over (or under) fitting the data."
   ]
  },
  {
   "cell_type": "code",
   "execution_count": 9,
   "metadata": {},
   "outputs": [
    {
     "name": "stdout",
     "output_type": "stream",
     "text": [
      "(21000, 1)\n",
      "(21000, 1)\n"
     ]
    },
    {
     "data": {
      "image/png": "[encoded data removed]",
      "text/plain": [
       "<Figure size 432x288 with 1 Axes>"
      ]
     },
     "metadata": {
      "needs_background": "light"
     },
     "output_type": "display_data"
    },
    {
     "name": "stdout",
     "output_type": "stream",
     "text": [
      "RMSE: 37.215376855267486\n",
      "Validation RMSE: 57.30775563876361\n"
     ]
    }
   ],
   "source": [
    "Yhat = model.forward(Xt).data.numpy()\n",
    "print(Y.shape)\n",
    "print(Yhat.shape)\n",
    "\n",
    "residual  = calculate_residuals(Y, Yhat)\n",
    "\n",
    "plt.plot(Y,residual,'x')\n",
    "\n",
    "\n",
    "Yhat_validation = model.forward(torch.Tensor(X_validation)).data.numpy()\n",
    "\n",
    "residual_validation  = calculate_residuals(Y_validation, Yhat_validation)\n",
    "\n",
    "plt.plot(Y_validation,residual_validation,'ro')\n",
    "plt.show()\n",
    "\n",
    "\n",
    "print('RMSE:',calculate_rmse(residual))\n",
    "print('Validation RMSE:',calculate_rmse(residual_validation))\n"
   ]
  },
  {
   "cell_type": "markdown",
   "metadata": {},
   "source": [
    "...And we do just about the same as we did before.\n",
    "\n",
    "Now let's try it with some hidden layers.  Instead of just 1 Linear layer, we will have multiple layers.  As with the last one, we will have to specify the in_dimensions (identical to that one).  However, instead of an out_dimension of 1, we will go to the number of hidden_units, let's say 100.  Then we will have an output layer, which will go from our hidden_units dimension to an out_dimension of 1.\n",
    "\n",
    "Again, your model summary should look similar to below (layer weights will be different)\n"
   ]
  },
  {
   "cell_type": "code",
   "execution_count": 10,
   "metadata": {
    "scrolled": true
   },
   "outputs": [
    {
     "name": "stdout",
     "output_type": "stream",
     "text": [
      "[Parameter containing:\n",
      "tensor([[ 0.0162, -0.0163,  0.0065,  ..., -0.0232, -0.1385,  0.0274],\n",
      "        [ 0.1421, -0.0355, -0.1399,  ..., -0.1576, -0.1166,  0.0216],\n",
      "        [ 0.0971, -0.1608, -0.0177,  ...,  0.0499, -0.1653, -0.1223],\n",
      "        ...,\n",
      "        [ 0.0121,  0.0678,  0.0509,  ...,  0.0818, -0.0059,  0.0034],\n",
      "        [ 0.1132, -0.1405,  0.0156,  ...,  0.0030,  0.1222, -0.1216],\n",
      "        [-0.1146, -0.1614,  0.1056,  ..., -0.0532, -0.0704,  0.0251]],\n",
      "       requires_grad=True), Parameter containing:\n",
      "tensor([ 0.1369, -0.0975, -0.1603,  0.1459, -0.0849,  0.1300, -0.0732,  0.0347,\n",
      "         0.0917, -0.1431, -0.0633, -0.1662, -0.1007, -0.1541, -0.1644, -0.0771,\n",
      "         0.0238,  0.0322,  0.1217,  0.0946,  0.0100,  0.1651,  0.1481, -0.0268,\n",
      "         0.0610, -0.1015,  0.0378, -0.1442, -0.0774,  0.0516,  0.1241,  0.0158,\n",
      "         0.0413,  0.0566,  0.0815, -0.0299,  0.0108, -0.0848,  0.1631, -0.0885,\n",
      "         0.1416, -0.1575,  0.1398,  0.1509, -0.0923, -0.1585, -0.1702,  0.1473,\n",
      "         0.1216,  0.0434, -0.0423, -0.1564,  0.0217, -0.1382, -0.1308, -0.0087,\n",
      "         0.0027,  0.1229, -0.0068,  0.0850, -0.0723,  0.0854,  0.0353, -0.0573,\n",
      "        -0.1294,  0.0346, -0.0497,  0.0126,  0.0342,  0.0401, -0.0273, -0.1269,\n",
      "        -0.0213, -0.1665,  0.1277,  0.1130, -0.1052,  0.1410, -0.1451, -0.1021,\n",
      "         0.1103,  0.1266,  0.1110, -0.1434, -0.0115,  0.0713, -0.0293,  0.1198,\n",
      "         0.1494, -0.0073,  0.0489,  0.1276, -0.0749,  0.0385,  0.1218,  0.1593,\n",
      "        -0.0036, -0.0112,  0.1309, -0.0805], requires_grad=True), Parameter containing:\n",
      "tensor([[-0.0586,  0.0148, -0.0094,  0.0572,  0.0667,  0.0213, -0.0779, -0.0449,\n",
      "          0.0937,  0.0491,  0.0500, -0.0723, -0.0589,  0.0269,  0.0678,  0.0547,\n",
      "         -0.0058, -0.0206, -0.0910,  0.0704,  0.0916, -0.0698, -0.0253, -0.0499,\n",
      "         -0.0243, -0.0646,  0.0453,  0.0678, -0.0512,  0.0510, -0.0551, -0.0107,\n",
      "         -0.0782,  0.0599, -0.0980, -0.0690,  0.0833,  0.0355,  0.0314, -0.0446,\n",
      "          0.0028, -0.0489, -0.0601,  0.0200, -0.0846,  0.0109,  0.0983,  0.0425,\n",
      "         -0.0528, -0.0443,  0.0344, -0.0783,  0.0436,  0.0552, -0.0567, -0.0830,\n",
      "         -0.0855,  0.0769, -0.0243,  0.0955,  0.0159, -0.0060, -0.0305,  0.0046,\n",
      "          0.0416,  0.0139, -0.0959, -0.0410,  0.0962,  0.0359, -0.0680, -0.0905,\n",
      "         -0.0756,  0.0592,  0.0784,  0.0529,  0.0582, -0.0088, -0.0462,  0.0600,\n",
      "          0.0426,  0.0961, -0.0228, -0.0141, -0.0534, -0.0832,  0.0807,  0.0862,\n",
      "          0.0953,  0.0364,  0.0068,  0.0997,  0.0160,  0.0284, -0.0485,  0.0869,\n",
      "          0.0520,  0.0687,  0.0633, -0.0468]], requires_grad=True), Parameter containing:\n",
      "tensor([-0.0833], requires_grad=True)]\n"
     ]
    }
   ],
   "source": [
    "hidden_units = 100\n",
    "#TODO construct the model\n",
    "# Define a neural network model as a stack of layers\n",
    "model = torch.nn.Sequential(torch.nn.Linear(X.shape[1], hidden_units, bias=True), torch.nn.Linear(hidden_units, 1, bias=True))\n",
    "\n",
    "\n",
    "print(list(model.parameters()))"
   ]
  },
  {
   "cell_type": "markdown",
   "metadata": {},
   "source": [
    "Copy your training code from above and let's see how well it does."
   ]
  },
  {
   "cell_type": "code",
   "execution_count": 11,
   "metadata": {
    "scrolled": true
   },
   "outputs": [
    {
     "name": "stdout",
     "output_type": "stream",
     "text": [
      "0 9381.2353515625\n",
      "100 nan\n",
      "200 nan\n"
     ]
    }
   ],
   "source": [
    "train(Xt,Yt,model, 300)"
   ]
  },
  {
   "cell_type": "markdown",
   "metadata": {},
   "source": [
    "Hmmmm.....that's no good. Our loss quickly explodes and goes to nan.  This is cause by our stochastic gradient descent ping-ponging back and forth.  Instead of converging it keeps overshooting more and more until it goes beyond the floating point limit.  Obviously, that isn't what we want.\n",
    "\n",
    "We can address this in one of 2 ways:\n",
    "\n",
    "1. We can shrink out learning rate to a small enough value that this no longer occurs\n",
    "2. We can clip our gradients to make sure they don't exceed a specific value\n",
    "\n",
    "We can do it the first way, but that will slow our training.  The second can be achieved by adding a step into our training process:\n",
    "\n",
    "\n",
    "1. Zero the gradients from the previous epoch -- `optimizer.zero_grad()` and `model.zero_grad()`\n",
    "2. Run the model in the forward direction -- `Yhat = model.forward(Xt)`\n",
    "3. Calculate the loss between our predictions and the truth -- `loss = loss_fn(Yhat,Yt)`\n",
    "4. Calculate back propagation of the loss through the network -- `loss.backward()`\n",
    "5. **Clip the gradients** -- `torch.nn.utils.clip_grad_norm_(model.parameters(),5)`\n",
    "6. Run the stochastic gradient descent and update the weights -- `optimizer.step()`\n",
    "\n",
    "Copy your model construction with the hidden layers from above, and then set up an optimization loop with gradient clipping."
   ]
  },
  {
   "cell_type": "code",
   "execution_count": 12,
   "metadata": {},
   "outputs": [
    {
     "name": "stdout",
     "output_type": "stream",
     "text": [
      "0 9367.9287109375\n",
      "100 6084.0322265625\n",
      "200 3745.2216796875\n",
      "300 2435.5107421875\n",
      "400 1877.4583740234375\n",
      "500 1653.1934814453125\n",
      "600 1529.10498046875\n",
      "700 1461.9012451171875\n",
      "800 1426.4195556640625\n",
      "900 1407.9984130859375\n",
      "1000 1398.529296875\n",
      "1100 1393.68701171875\n",
      "1200 1391.215087890625\n",
      "1300 1389.9521484375\n",
      "1400 1389.3050537109375\n",
      "1500 1388.9716796875\n",
      "1600 1388.7984619140625\n",
      "1700 1388.7073974609375\n",
      "1800 1388.6585693359375\n",
      "1900 1388.63134765625\n",
      "2000 1388.6156005859375\n",
      "2100 1388.6058349609375\n",
      "2200 1388.59912109375\n",
      "2300 1388.59423828125\n",
      "2400 1388.590087890625\n",
      "2500 1388.58642578125\n",
      "2600 1388.5831298828125\n",
      "2700 1388.580078125\n",
      "2800 1388.5770263671875\n",
      "2900 1388.5740966796875\n",
      "3000 1388.5712890625\n",
      "3100 1388.568359375\n",
      "3200 1388.5655517578125\n",
      "3300 1388.5628662109375\n",
      "3400 1388.56005859375\n",
      "3500 1388.557373046875\n",
      "3600 1388.5546875\n",
      "3700 1388.552001953125\n",
      "3800 1388.5491943359375\n",
      "3900 1388.546630859375\n",
      "4000 1388.5439453125\n",
      "4100 1388.541259765625\n",
      "4200 1388.538818359375\n",
      "4300 1388.5362548828125\n",
      "4400 1388.53369140625\n",
      "4500 1388.5308837890625\n",
      "4600 1388.5284423828125\n",
      "4700 1388.5257568359375\n",
      "4800 1388.523193359375\n",
      "4900 1388.5205078125\n"
     ]
    }
   ],
   "source": [
    "hidden_units = 100\n",
    "#TODO construct the model\n",
    "# Define a neural network model as a stack of layers\n",
    "model = torch.nn.Sequential(torch.nn.Linear(X.shape[1], hidden_units, bias=True), torch.nn.Linear(hidden_units, 1, bias=True))\n",
    "\n",
    "\n",
    "def train_with_gradient_clipping(X: torch.Tensor, Y: torch.Tensor, model: torch.nn.Module, epochs:int) -> None:\n",
    "    #TODO set the optimizer and loss functions\n",
    "    optimizer = torch.optim.SGD(model.parameters(), lr=.01)\n",
    "\n",
    "    #TODO set the loss function\n",
    "    # We'll use mean squared error as our loss function\n",
    "    loss_fn = torch.nn.MSELoss()\n",
    "    for t in range(epochs):\n",
    "\n",
    "        #TODO do the training steps here\n",
    "        #1. zero the gradient buffers\n",
    "        optimizer.zero_grad()\n",
    "        #1. Clear out the \"gradient\", i.e. the old update amounts\n",
    "        model.zero_grad()\n",
    "        #2. Make a prediction\n",
    "        Yhat = model.forward(X)\n",
    "        #3. Calculate loss (the error of the residual)\n",
    "        loss = loss_fn(Yhat,Y)\n",
    "\n",
    "        if t % 100 == 0:\n",
    "            print(t,loss.item())\n",
    "\n",
    "        #4. Run the loss backwards through the graph\n",
    "        loss.backward()\n",
    "        #5. Clip the gradients\n",
    "        torch.nn.utils.clip_grad_norm_(model.parameters(),5)\n",
    "        #6. Run the optimizer to update the weights\n",
    "        optimizer.step()\n",
    "    \n",
    "train_with_gradient_clipping(Xt,Yt,model, 5000)"
   ]
  },
  {
   "cell_type": "code",
   "execution_count": 13,
   "metadata": {},
   "outputs": [
    {
     "data": {
      "image/png": "[encoded data removed]",
      "text/plain": [
       "<Figure size 432x288 with 1 Axes>"
      ]
     },
     "metadata": {
      "needs_background": "light"
     },
     "output_type": "display_data"
    },
    {
     "name": "stdout",
     "output_type": "stream",
     "text": [
      "RMSE: 37.26282229420496\n",
      "Validation RMSE: 57.18037772121998\n"
     ]
    }
   ],
   "source": [
    "Yhat = model.forward(Xt).data.numpy()\n",
    "\n",
    "residual  = calculate_residuals(Y, Yhat)\n",
    "\n",
    "plt.plot(Y,residual,'x')\n",
    "\n",
    "\n",
    "Yhat_validation = model.forward(torch.Tensor(X_validation)).data.numpy()\n",
    "\n",
    "residual_validation  = calculate_residuals(Y_validation, Yhat_validation)\n",
    "\n",
    "plt.plot(Y_validation,residual_validation,'ro')\n",
    "plt.show()\n",
    "\n",
    "\n",
    "print('RMSE:',calculate_rmse(residual))\n",
    "print('Validation RMSE:',calculate_rmse(residual_validation))"
   ]
  },
  {
   "cell_type": "markdown",
   "metadata": {},
   "source": [
    "Wait, that looks just like it did before!  The key to neural networks comes from the non-linear activations.  No matter how many layers we add, so long as the rank of the hidden layers is $\\geq$ the rank of the original vector, the best we can do is the least squares estimation (as it is the maximum likelihood estimator for a linear regression).  If the rank is decreased, then we are doing some form of compression, akin to Principal Component Analysis.  Let's try it with a bit of nonlinearity. \n",
    "\n",
    "Let's do a single hidden layer with a non-linear activation -- we will use the Rectified Linear Unit (ReLU) as it is fast and all we really care about is ANY kind of nonlinearity (sometimes we care about our nonlinearity having a specific meaning or mapping into a specific range (0 to 1, -1 to 1, etc.).\n",
    "\n",
    "This means we should now have a Sequential model with\n",
    "\n",
    "1. A Linear layer going from our input dimension to the number of hidden units\n",
    "2. A ReLU activation layer -- `torch.nn.ReLU()`\n",
    "3. A Linear layer going from our hidden units to 1\n"
   ]
  },
  {
   "cell_type": "code",
   "execution_count": 14,
   "metadata": {},
   "outputs": [
    {
     "name": "stdout",
     "output_type": "stream",
     "text": [
      "[Parameter containing:\n",
      "tensor([[-0.1556, -0.0429, -0.1476,  ...,  0.0647,  0.0422,  0.0964],\n",
      "        [-0.0863, -0.1707,  0.0108,  ..., -0.1612, -0.1039, -0.1100],\n",
      "        [-0.1369,  0.0920, -0.0754,  ..., -0.1508, -0.0100, -0.1269],\n",
      "        ...,\n",
      "        [ 0.0620, -0.1438,  0.0028,  ..., -0.0904, -0.1349, -0.1573],\n",
      "        [ 0.1503, -0.0145,  0.1548,  ...,  0.1064, -0.1695, -0.1636],\n",
      "        [ 0.0279,  0.1711,  0.0862,  ..., -0.1649,  0.1662, -0.0593]],\n",
      "       requires_grad=True), Parameter containing:\n",
      "tensor([ 0.0390,  0.1549,  0.1076, -0.1135,  0.1076,  0.1711, -0.0338, -0.0335,\n",
      "        -0.1356, -0.0449, -0.1265,  0.0628, -0.1480,  0.0757,  0.1094,  0.1041,\n",
      "         0.0823, -0.0273,  0.0071, -0.1393,  0.0532, -0.0433,  0.0327, -0.1328,\n",
      "         0.0987, -0.0860, -0.0851, -0.1713,  0.0297,  0.0599,  0.1686, -0.0751,\n",
      "        -0.1516, -0.0973,  0.1063,  0.1202,  0.0973,  0.1638, -0.0597, -0.1515,\n",
      "        -0.0768,  0.0109,  0.0910, -0.1703, -0.1496,  0.0348, -0.1430, -0.0088,\n",
      "        -0.0517,  0.0135,  0.1556, -0.0462,  0.0558,  0.0683, -0.0137, -0.1133,\n",
      "         0.1028,  0.0190, -0.0777, -0.0128,  0.1710,  0.0080, -0.0562,  0.0650,\n",
      "         0.0897, -0.0349, -0.0618, -0.1707,  0.0284,  0.1532, -0.1425,  0.0873,\n",
      "        -0.0499,  0.0103, -0.1014, -0.0352,  0.1331, -0.0818, -0.0468,  0.0026,\n",
      "        -0.1308,  0.0632, -0.0610, -0.1517,  0.1024, -0.0218,  0.0215,  0.1277,\n",
      "         0.0577,  0.1482,  0.1139, -0.0578, -0.0712,  0.0264, -0.0005, -0.1100,\n",
      "         0.0840, -0.0036,  0.0822, -0.0933], requires_grad=True), Parameter containing:\n",
      "tensor([[ 0.0313, -0.0399, -0.0489,  0.0742, -0.0958, -0.0711,  0.0356, -0.0889,\n",
      "          0.0086, -0.0336, -0.0868, -0.0232,  0.0723,  0.0810, -0.0814,  0.0730,\n",
      "          0.0433,  0.0285, -0.0187, -0.0440, -0.0498,  0.0201, -0.0406, -0.0108,\n",
      "         -0.0988, -0.0380,  0.0752,  0.0493, -0.0380, -0.0579,  0.0558, -0.0730,\n",
      "         -0.0344,  0.0123,  0.0494,  0.0195, -0.0337, -0.0549, -0.0144, -0.0654,\n",
      "         -0.0752, -0.0777, -0.0584,  0.0195,  0.0707,  0.0657, -0.0072, -0.0061,\n",
      "          0.0363,  0.0151,  0.0653,  0.0845, -0.0186, -0.0659, -0.0464,  0.0408,\n",
      "          0.0388, -0.0843,  0.0884, -0.0752,  0.0552, -0.0370, -0.0039, -0.0086,\n",
      "          0.0428, -0.0640,  0.0248,  0.0673, -0.0005,  0.0466, -0.0421, -0.0581,\n",
      "          0.0389, -0.0710,  0.0898,  0.0941, -0.0307,  0.0979,  0.0150, -0.0885,\n",
      "          0.0380,  0.0812, -0.0234, -0.0921, -0.0380, -0.0897,  0.0056, -0.0128,\n",
      "         -0.0852,  0.0697,  0.0212, -0.0494,  0.0760, -0.0477,  0.0632, -0.0570,\n",
      "          0.0011,  0.0017, -0.0236,  0.0826]], requires_grad=True), Parameter containing:\n",
      "tensor([-0.0759], requires_grad=True)]\n"
     ]
    }
   ],
   "source": [
    "hidden_units = 100\n",
    "#TODO construct the model\n",
    "# Define a neural network model as a stack of layers\n",
    "model = torch.nn.Sequential(torch.nn.Linear(X.shape[1], hidden_units, bias=True), torch.nn.ReLU(), torch.nn.Linear(hidden_units, 1, bias=True))\n",
    "print(list(model.parameters()))"
   ]
  },
  {
   "cell_type": "markdown",
   "metadata": {},
   "source": [
    "Use the optimization code with the gradient clipping from above to train our new, non-linear, model.  I recommend letting it run for about 10000 epochs.\n"
   ]
  },
  {
   "cell_type": "code",
   "execution_count": 15,
   "metadata": {
    "scrolled": true
   },
   "outputs": [
    {
     "name": "stdout",
     "output_type": "stream",
     "text": [
      "0 9384.7763671875\n",
      "100 6271.43701171875\n",
      "200 3870.163330078125\n",
      "300 2447.5185546875\n",
      "400 1695.2972412109375\n",
      "500 1170.322998046875\n",
      "600 974.5184936523438\n",
      "700 906.7769775390625\n",
      "800 876.4112548828125\n",
      "900 857.6600341796875\n",
      "1000 842.39892578125\n",
      "1100 828.107421875\n",
      "1200 814.5261840820312\n",
      "1300 800.8159790039062\n",
      "1400 786.7867431640625\n",
      "1500 771.79248046875\n",
      "1600 755.5336303710938\n",
      "1700 737.9085083007812\n",
      "1800 719.2559814453125\n",
      "1900 699.4881591796875\n",
      "2000 678.836669921875\n",
      "2100 658.0883178710938\n",
      "2200 637.2787475585938\n",
      "2300 616.7684326171875\n",
      "2400 597.01953125\n",
      "2500 578.3680419921875\n",
      "2600 560.7313232421875\n",
      "2700 544.2703247070312\n",
      "2800 528.8110961914062\n",
      "2900 514.3836059570312\n",
      "3000 500.9592590332031\n",
      "3100 488.4705505371094\n",
      "3200 476.85284423828125\n",
      "3300 466.2244567871094\n",
      "3400 456.3403015136719\n",
      "3500 447.1253967285156\n",
      "3600 438.5317687988281\n",
      "3700 430.45343017578125\n",
      "3800 422.79766845703125\n",
      "3900 415.51251220703125\n",
      "4000 408.6529541015625\n",
      "4100 402.1925048828125\n",
      "4200 396.14752197265625\n",
      "4300 390.4472351074219\n",
      "4400 385.04180908203125\n",
      "4500 379.8684997558594\n",
      "4600 374.9381408691406\n",
      "4700 370.25439453125\n",
      "4800 365.8089904785156\n",
      "4900 361.5671691894531\n",
      "5000 357.5337219238281\n",
      "5100 353.7073669433594\n",
      "5200 350.0693054199219\n",
      "5300 346.5906982421875\n",
      "5400 343.2992858886719\n",
      "5500 340.17291259765625\n",
      "5600 337.22998046875\n",
      "5700 334.4468994140625\n",
      "5800 331.8139343261719\n",
      "5900 329.31854248046875\n",
      "6000 326.9436340332031\n",
      "6100 324.64691162109375\n",
      "6200 322.4574279785156\n",
      "6300 320.3746643066406\n",
      "6400 318.35321044921875\n",
      "6500 316.41595458984375\n",
      "6600 314.5567321777344\n",
      "6700 312.77685546875\n",
      "6800 311.0588684082031\n",
      "6900 309.4013977050781\n",
      "7000 307.807373046875\n",
      "7100 306.2644958496094\n",
      "7200 304.7669982910156\n",
      "7300 303.30609130859375\n",
      "7400 301.8958740234375\n",
      "7500 300.5382080078125\n",
      "7600 299.229736328125\n",
      "7700 297.95330810546875\n",
      "7800 296.718017578125\n",
      "7900 295.51251220703125\n",
      "8000 294.3435974121094\n",
      "8100 293.2172546386719\n",
      "8200 292.11639404296875\n",
      "8300 291.0451354980469\n",
      "8400 289.99853515625\n",
      "8500 288.9833068847656\n",
      "8600 287.99700927734375\n",
      "8700 287.04083251953125\n",
      "8800 286.11248779296875\n",
      "8900 285.20245361328125\n",
      "9000 284.3154296875\n",
      "9100 283.3741455078125\n",
      "9200 282.42413330078125\n",
      "9300 281.5298767089844\n",
      "9400 280.6631774902344\n",
      "9500 279.8336181640625\n",
      "9600 279.0324401855469\n",
      "9700 278.2424011230469\n",
      "9800 277.47314453125\n",
      "9900 276.71697998046875\n"
     ]
    }
   ],
   "source": [
    "train_with_gradient_clipping(Xt,Yt,model, 10000)"
   ]
  },
  {
   "cell_type": "code",
   "execution_count": 16,
   "metadata": {
    "scrolled": true
   },
   "outputs": [
    {
     "data": {
      "image/png": "[encoded data removed]",
      "text/plain": [
       "<Figure size 432x288 with 1 Axes>"
      ]
     },
     "metadata": {
      "needs_background": "light"
     },
     "output_type": "display_data"
    },
    {
     "name": "stdout",
     "output_type": "stream",
     "text": [
      "RMSE: 16.61185827223339\n",
      "Validation RMSE: 17.09250606303869\n"
     ]
    }
   ],
   "source": [
    "Yhat = model.forward(Xt).data.numpy()\n",
    "\n",
    "residual  = calculate_residuals(Y, Yhat)\n",
    "\n",
    "plt.plot(Y,residual,'x')\n",
    "\n",
    "\n",
    "Yhat_validation = model.forward(torch.Tensor(X_validation)).data.numpy()\n",
    "\n",
    "residual_validation  = calculate_residuals(Y_validation, Yhat_validation)\n",
    "\n",
    "plt.plot(Y_validation,residual_validation,'ro')\n",
    "plt.show()\n",
    "\n",
    "\n",
    "print('RMSE:',calculate_rmse(residual))\n",
    "print('Validation RMSE:',calculate_rmse(residual_validation))"
   ]
  },
  {
   "cell_type": "markdown",
   "metadata": {},
   "source": [
    "Ah, that looks better.  Note, you are probably overfitting (it is the tendency of these techniques), you can try some form of regularization (e.g., dropout) to reduce this overfitting for extra-credit.  \n",
    "\n",
    "You can try to explore different network topologies (different numbers of layers, different activation functions) and different training techniques to see how well you can do on the validation set.\n",
    "\n",
    "Now, let's use this as a heuristic for our search.\n",
    "\n",
    "Below are the helper functions needed -- use them in your A* implementation"
   ]
  },
  {
   "cell_type": "code",
   "execution_count": 17,
   "metadata": {},
   "outputs": [],
   "source": [
    "import json\n",
    "from typing import NamedTuple, Dict, Tuple, Optional, Sequence, List, Set, FrozenSet\n",
    "import array\n",
    "import heapq\n",
    "import time\n",
    "import itertools\n",
    "\n",
    "with open('Crafting.json') as f:\n",
    "    Crafting = json.load(f)\n",
    "items_by_index = list(sorted(Crafting['Items']))\n",
    "items_to_indices = {item: index for index, item in enumerate(items_by_index)}\n",
    "\n",
    "class State:\n",
    "\n",
    "    def __init__(self, items=None) :\n",
    "        if items is not None:\n",
    "            # Copying a state from an old state.\n",
    "            # This call to the array constructor creates an array of unsigned integers and initializes it from the contents of items.\n",
    "            self.items = array.array('I', items)\n",
    "        else:\n",
    "            self.items = array.array('I', [0 for item in items_by_index])\n",
    "\n",
    "    def __add__(self, other):\n",
    "        s = State(self.items)\n",
    "        # A. How do we add together the contents of two states?\n",
    "        for ii,oi in enumerate(other.items):\n",
    "            s.items[ii] += oi\n",
    "        return s\n",
    "    def __sub__(self, other):\n",
    "        s = State(self.items)\n",
    "        # A. How do we add together the contents of two states?\n",
    "        for ii,oi in enumerate(other.items):\n",
    "            s.items[ii] -= oi\n",
    "        return s\n",
    "\n",
    "    def __ge__(self, other):\n",
    "        # C. How do we know whether one state (self) contains everything that's inside of another (other)? \n",
    "        for si,oi in zip(self.items,other.items):\n",
    "            if si < oi:\n",
    "                return False\n",
    "        return True\n",
    "        \n",
    "    def __lt__(self, other):\n",
    "        return not (self >= other)\n",
    "\n",
    "    def __eq__(self, other):\n",
    "        return self.items == other.items\n",
    "\n",
    "    def __hash__(self):\n",
    "        hsh = 5381\n",
    "        for s in self.items:\n",
    "            hsh = ((hsh << 5) + hsh) + s\n",
    "        return hsh\n",
    "\n",
    "    def __str__(self):\n",
    "        out_str = []\n",
    "        for k,v  in self.to_dict().items():\n",
    "            out_str.append('{}:{}'.format(k,v))\n",
    "        return ','.join(out_str)\n",
    "\n",
    "    def to_dict(self):\n",
    "        return {items_by_index[idx]: self.items[idx]\n",
    "                for idx in range(len(self.items))}\n",
    "\n",
    "    @classmethod\n",
    "    def from_dict(cls, item_dict: Dict[str, int]) -> 'State':\n",
    "        return cls([\n",
    "            item_dict.get(item, 0) for item in items_by_index\n",
    "        ])\n",
    "    \n",
    "class Recipe(NamedTuple):\n",
    "    produces: State\n",
    "    consumes: State\n",
    "    requires: State\n",
    "    cost: int\n",
    "\n",
    "recipes: Dict[str, Recipe] = {}\n",
    "for name, rule in Crafting['Recipes'].items():\n",
    "    recipes[name] = Recipe(\n",
    "        State.from_dict(rule.get('Produces', {})),\n",
    "        State.from_dict(rule.get('Consumes', {})),\n",
    "        State.from_dict({item: 1 if req else 0\n",
    "                         for item, req in rule.get('Requires', {}).items()}),\n",
    "        rule['Time']\n",
    "    )\n",
    "    \n",
    "def preconditions_satisfied(state: State, recipe: Recipe) -> bool:\n",
    "    return state >= recipe.consumes and state >= recipe.requires\n",
    "\n",
    "def apply_effects(state: State, recipe: Recipe) -> State:\n",
    "    return state-recipe.consumes+recipe.produces"
   ]
  },
  {
   "cell_type": "code",
   "execution_count": 18,
   "metadata": {},
   "outputs": [],
   "source": [
    "import random\n",
    "\n",
    "def states_to_tensor(initial_state:State , goal_state:State) -> torch.Tensor:\n",
    "    items = ['bench','cart','coal','cobble',\n",
    "     'furnace','ingot','iron_axe',\n",
    "     'iron_pickaxe','ore','plank','rail',\n",
    "     'stick','stone_axe','stone_pickaxe',\n",
    "     'wood','wooden_axe','wooden_pickaxe']\n",
    "    data = []\n",
    "    initial_state = initial_state.to_dict()\n",
    "    goal_state = goal_state.to_dict()\n",
    "    for i in items:\n",
    "        data.append([initial_state[i]])\n",
    "    for i in items:\n",
    "        data.append([goal_state[i]])\n",
    "    return torch.Tensor(np.array(data).T)\n",
    "\n",
    "\n",
    "def get_heuristic(current_state:State , goal_state:State) -> float:\n",
    "    return model.forward(states_to_tensor(current_state,goal_state)).data.numpy()[0,0]\n",
    "\n",
    "\n",
    "pruning = [State.from_dict({'cobble':9}),\n",
    "           State.from_dict({'wood':3}),\n",
    "           State.from_dict({'plank':9}),\n",
    "           State.from_dict({'ore':2}),\n",
    "           State.from_dict({'stick':6}),\n",
    "           State.from_dict({'bench':2}),\n",
    "           State.from_dict({'furnace':2}),\n",
    "           State.from_dict({'iron_axe':2}),\n",
    "           State.from_dict({'iron_pickaxe':2}),\n",
    "           State.from_dict({'stone_axe':2}),\n",
    "           State.from_dict({'stone_pickaxe':2}),\n",
    "           State.from_dict({'wooden_axe':2}),\n",
    "           State.from_dict({'wooden_pickaxe':2}),\n",
    "           State.from_dict({'coal':2})]\n",
    "\n",
    "def prune(state:State) -> bool:\n",
    "    to_prune = False\n",
    "    for p in pruning:\n",
    "        if state >= p:\n",
    "            to_prune = True\n",
    "            break\n",
    "                        \n",
    "    return to_prune"
   ]
  },
  {
   "cell_type": "code",
   "execution_count": 19,
   "metadata": {},
   "outputs": [],
   "source": [
    "#TODO implement A* search\n",
    "#It should return a tuple of the number of states visited, the time cost, \n",
    "#and the path of recipes it takes (as a list of recipe names)\n",
    "#Break the loop when you have visited max_nodes\n",
    "#I recommend using the above prune method after applying a recipe \n",
    "#but before adding a node to the open set\n",
    "\n",
    "def a_star(initial:State, goal:State, max_nodes:int) -> Tuple[int, int,Optional[List[str]]]:\n",
    "    visited = 0\n",
    "    q: List[Tuple[int, State]] = []\n",
    "    heapq.heappush(q, (0, initial))\n",
    "    best_costs: Dict[State, int] = {initial: 0}\n",
    "    best_from: Dict[State, List[str]] = {initial: []}\n",
    "    seen: set = set()\n",
    "    seen.add(initial)\n",
    "    while q and visited < max_nodes:\n",
    "        current: State = heapq.heappop(q)[1]\n",
    "        visited += 1\n",
    "        if current >= goal:\n",
    "            return (visited, best_costs[current], best_from[current])\n",
    "        for key, recipe in recipes.items():\n",
    "                if preconditions_satisfied(current, recipe):\n",
    "                    resultant = apply_effects(current, recipe)\n",
    "                    cost = best_costs[current] + recipe.cost\n",
    "                    heuristic = cost + get_heuristic(resultant, goal)\n",
    "                    if not prune(resultant):\n",
    "                        if resultant not in seen:\n",
    "                            heapq.heappush(q, (heuristic, resultant))\n",
    "                            seen.add(resultant)\n",
    "                        if best_costs.get(resultant) is None or best_costs.get(resultant) > cost:\n",
    "                            best_costs.update({resultant: cost})\n",
    "                            best_from.update({resultant: best_from[current] + [key]})\n",
    "    return visited, -1, None"
   ]
  },
  {
   "cell_type": "code",
   "execution_count": 20,
   "metadata": {},
   "outputs": [
    {
     "name": "stdout",
     "output_type": "stream",
     "text": [
      "(16, 14, ['craft plank', 'craft bench', 'punch for wood', 'craft plank', 'craft stick', 'punch for wood', 'craft plank', 'craft wooden_pickaxe at bench'])\n",
      "(649, 140, ['craft plank', 'craft bench', 'punch for wood', 'craft plank', 'craft stick', 'punch for wood', 'craft plank', 'craft wooden_pickaxe at bench', 'wooden_pickaxe for cobble', 'wooden_pickaxe for cobble', 'wooden_pickaxe for cobble', 'wooden_pickaxe for cobble', 'wooden_pickaxe for cobble', 'wooden_pickaxe for cobble', 'craft stone_axe at bench', 'stone_axe for wood', 'craft stick', 'stone_axe for wood', 'wooden_pickaxe for cobble', 'wooden_pickaxe for coal', 'wooden_pickaxe for cobble', 'wooden_pickaxe for cobble', 'wooden_pickaxe for cobble', 'wooden_pickaxe for cobble', 'craft furnace at bench', 'wooden_pickaxe for cobble', 'wooden_pickaxe for cobble', 'wooden_pickaxe for cobble', 'craft stone_pickaxe at bench', 'stone_pickaxe for ore', 'smelt ore in furnace', 'stone_pickaxe for ore', 'stone_pickaxe for coal', 'smelt ore in furnace', 'stone_pickaxe for ore', 'stone_pickaxe for coal', 'smelt ore in furnace', 'stone_pickaxe for ore', 'stone_pickaxe for coal', 'smelt ore in furnace', 'stone_pickaxe for ore', 'stone_pickaxe for coal', 'smelt ore in furnace', 'stone_pickaxe for coal', 'stone_pickaxe for cobble', 'stone_pickaxe for cobble', 'craft iron_pickaxe at bench'])\n",
      "(459, 136, ['punch for wood', 'craft plank', 'craft bench', 'punch for wood', 'craft plank', 'craft stick', 'punch for wood', 'craft plank', 'craft wooden_axe at bench', 'craft wooden_pickaxe at bench', 'wooden_pickaxe for cobble', 'wooden_pickaxe for cobble', 'wooden_axe for wood', 'wooden_pickaxe for cobble', 'wooden_axe for wood', 'wooden_pickaxe for cobble', 'wooden_pickaxe for cobble', 'wooden_pickaxe for coal', 'wooden_pickaxe for cobble', 'craft plank', 'craft stick', 'craft stone_pickaxe at bench', 'stone_pickaxe for cobble', 'stone_pickaxe for cobble', 'stone_pickaxe for cobble', 'stone_pickaxe for cobble', 'stone_pickaxe for cobble', 'craft furnace at bench', 'stone_pickaxe for cobble', 'stone_pickaxe for cobble', 'stone_pickaxe for cobble', 'stone_pickaxe for ore', 'smelt ore in furnace', 'stone_pickaxe for ore', 'stone_pickaxe for coal', 'smelt ore in furnace', 'stone_pickaxe for ore', 'stone_pickaxe for coal', 'smelt ore in furnace', 'stone_pickaxe for ore', 'stone_pickaxe for coal', 'smelt ore in furnace', 'stone_pickaxe for ore', 'stone_pickaxe for coal', 'smelt ore in furnace', 'stone_pickaxe for coal', 'stone_pickaxe for ore', 'smelt ore in furnace', 'craft rail at bench'])\n",
      "(4024, 158, ['punch for wood', 'craft plank', 'craft bench', 'punch for wood', 'craft plank', 'craft stick', 'punch for wood', 'craft plank', 'craft wooden_pickaxe at bench', 'wooden_pickaxe for cobble', 'wooden_pickaxe for cobble', 'wooden_pickaxe for cobble', 'wooden_pickaxe for cobble', 'craft stone_axe at bench', 'stone_axe for wood', 'stone_axe for wood', 'craft stick', 'wooden_pickaxe for cobble', 'wooden_pickaxe for cobble', 'wooden_pickaxe for coal', 'wooden_pickaxe for cobble', 'wooden_pickaxe for cobble', 'wooden_pickaxe for cobble', 'craft stone_pickaxe at bench', 'stone_pickaxe for ore', 'stone_pickaxe for cobble', 'stone_pickaxe for cobble', 'stone_pickaxe for cobble', 'stone_pickaxe for cobble', 'stone_pickaxe for cobble', 'craft furnace at bench', 'smelt ore in furnace', 'stone_pickaxe for ore', 'stone_pickaxe for coal', 'smelt ore in furnace', 'stone_pickaxe for ore', 'stone_pickaxe for coal', 'smelt ore in furnace', 'stone_pickaxe for ore', 'stone_pickaxe for coal', 'smelt ore in furnace', 'stone_pickaxe for ore', 'stone_pickaxe for coal', 'smelt ore in furnace', 'stone_pickaxe for ore', 'stone_pickaxe for coal', 'smelt ore in furnace', 'stone_pickaxe for ore', 'stone_pickaxe for coal', 'smelt ore in furnace', 'stone_pickaxe for ore', 'stone_pickaxe for coal', 'stone_pickaxe for cobble', 'craft cart at bench'])\n"
     ]
    }
   ],
   "source": [
    "print(a_star(State.from_dict({'wood':1}),State.from_dict({'wooden_pickaxe':1}),1000))\n",
    "print(a_star(State.from_dict({'wood':1}),State.from_dict({'iron_pickaxe':1}),20000))\n",
    "print(a_star(State.from_dict({}),State.from_dict({'rail':1}),20000))\n",
    "print(a_star(State.from_dict({}),State.from_dict({'cart':1}),20000))"
   ]
  },
  {
   "cell_type": "code",
   "execution_count": null,
   "metadata": {},
   "outputs": [],
   "source": []
  }
 ],
 "metadata": {
  "kernelspec": {
   "display_name": "Python 3",
   "language": "python",
   "name": "python3"
  },
  "language_info": {
   "codemirror_mode": {
    "name": "ipython",
    "version": 3
   },
   "file_extension": ".py",
   "mimetype": "text/x-python",
   "name": "python",
   "nbconvert_exporter": "python",
   "pygments_lexer": "ipython3",
   "version": "3.6.7rc2"
  }
 },
 "nbformat": 4,
 "nbformat_minor": 2
}
