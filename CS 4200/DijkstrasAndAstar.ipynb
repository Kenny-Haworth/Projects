{
 "cells": [
  {
   "cell_type": "markdown",
   "metadata": {},
   "source": [
    "In this assignment, we will be doing pathfinding using Dijkstra's and A* to search through the topology.  You are provided some starter code below, but the implementation will be up to you. Feel free to create your own sample maps, but you should ensure that your output looks like the final output below.\n",
    "\n",
    "In this assignment you will:\n",
    "\n",
    "* Parse a data file to create a representation of a world-space\n",
    "* Implement functions that operate over this representation: telling your algorithms how to navigate this space, how to estimate costs over this space, and how to determine when a goal has been reached in this space\n",
    "* Implement Dijkstra's (an algorithm for finding the optimal path through a graph) search and A* search (a modification of Dijkstra's that utilizes heuristics to speed up the search, while still guaranteeing optimality)\n",
    "\n",
    "The goal of this assignment is for you to understand:\n",
    "\n",
    "* How to read in a data file and produce a representation of the world such that you can generically solve a search problem\n",
    "* How to implement two basic search algorithms, Dijkstra's and A-star\n",
    "* The differences between Dijkstra's and A-star, and why A-star is going to be faster than Dijkstra's"
   ]
  },
  {
   "cell_type": "markdown",
   "metadata": {},
   "source": [
    "First we will load the map into a grid called: terrain"
   ]
  },
  {
   "cell_type": "code",
   "execution_count": 7,
   "metadata": {},
   "outputs": [],
   "source": [
    "with open('terrain.txt', encoding='utf-8') as infile:\n",
    "    terrain = [ list(line.rstrip()) for line in infile]"
   ]
  },
  {
   "cell_type": "code",
   "execution_count": 8,
   "metadata": {},
   "outputs": [
    {
     "name": "stdout",
     "output_type": "stream",
     "text": [
      "['😀', '🌿', '🌿', '🌿', '🌿', '🌼', '🌿', '🌼', '🌼', '🌿', '🌿', '🌿']\n",
      "['🌿', '🌿', '🌿', '🌿', '🌿', '🌼', '🌿', '🌼', '🌼', '🌿', '🌿', '🌿']\n",
      "['🌿', '🌿', '🌿', '🌿', '🌿', '🌿', '🌼', '🌿', '🌿', '🌿', '🌿', '🌿']\n",
      "['🌿', '🌿', '🌿', '🌊', '🌊', '🌊', '🌊', '🌊', '🌉', '🌊', '🌊', '🌊']\n",
      "['🌊', '🌊', '🌊', '🌊', '🌊', '🌊', '🌊', '🌊', '🌉', '🌊', '🌊', '🌊']\n",
      "['🌊', '🌊', '🌊', '🌊', '🌊', '🌊', '🌊', '🌊', '🌉', '🌊', '🌊', '🌊']\n",
      "['🌊', '🌊', '🌊', '🌊', '🌊', '🌊', '🌊', '🌊', '🌉', '🌊', '🌊', '🌊']\n",
      "['🌊', '🌊', '🌊', '🌊', '🌊', '🌊', '🌊', '🌊', '🌉', '🌊', '🌊', '🌊']\n",
      "['🌊', '🌊', '🌊', '🌊', '🌊', '🌊', '🌊', '🌊', '🌉', '🌊', '🌊', '🌊']\n",
      "['🌿', '🌿', '🌿', '🌲', '🌿', '🌿', '🌿', '🌿', '🌿', '🌼', '🌲', '🌲']\n"
     ]
    }
   ],
   "source": [
    "for row in terrain:\n",
    "    print(row)"
   ]
  },
  {
   "cell_type": "markdown",
   "metadata": {},
   "source": [
    "The indexing on terrain is terrain[y][x].\n",
    "\n",
    "Now we will implement a find_neighbors function.  find_neighbors should take in the curent position (a tuple of (x,y)) and the terrain.  It will output a list [] of all of the neighbors (tuples of ( (x,y), cost)) the costs are as follows:\n",
    "🌿 = 1\n",
    "🌼 = 2\n",
    "🌉 = 1\n",
    "🌊 = 5\n",
    "🌲 = 1\n",
    "\n",
    "i.e., we are fine walking on grass, bridges, and trees, but would prefer to avoid flowers, and really don't want to swim.\n",
    "\n",
    "Note: this is assuming a neighborhood of:\n",
    "\n",
    "🌿🌿🌿\n",
    "\n",
    "🌿🌿🌿\n",
    "\n",
    "🌿🌿🌿\n",
    "\n",
    "not\n",
    "\n",
    "  🌿 \n",
    "  \n",
    "🌿🌿🌿\n",
    "\n",
    "  🌿 \n",
    "  \n",
    "i.e. you can move on diagonals, not just in the cardinal directions"
   ]
  },
  {
   "cell_type": "code",
   "execution_count": 40,
   "metadata": {},
   "outputs": [
    {
     "name": "stdout",
     "output_type": "stream",
     "text": [
      "10\n",
      "12\n",
      "5\n"
     ]
    }
   ],
   "source": [
    "print(len(terrain)) #number of rows\n",
    "print(len(terrain[0]))#number of cols\n",
    "\n",
    "neighbors = []\n",
    "\n",
    "neighbors.append((3,5))\n",
    "print(neighbors[0][1])"
   ]
  },
  {
   "cell_type": "code",
   "execution_count": 32,
   "metadata": {},
   "outputs": [
    {
     "name": "stdout",
     "output_type": "stream",
     "text": [
      "3\n",
      "5\n"
     ]
    }
   ],
   "source": [
    "current_position = (3,5)\n",
    "\n",
    "print(current_position[0])\n",
    "print(current_position[1])"
   ]
  },
  {
   "cell_type": "code",
   "execution_count": 34,
   "metadata": {},
   "outputs": [
    {
     "name": "stdout",
     "output_type": "stream",
     "text": [
      "10\n",
      "12\n"
     ]
    }
   ],
   "source": [
    "print (len(terrain))\n",
    "print(len(terrain[0]))"
   ]
  },
  {
   "cell_type": "code",
   "execution_count": 4,
   "metadata": {},
   "outputs": [
    {
     "name": "stdout",
     "output_type": "stream",
     "text": [
      "10\n",
      "12\n",
      "14\n",
      "16\n",
      "18\n"
     ]
    }
   ],
   "source": [
    "for r in range(10, 20, 2):\n",
    "    print(r)"
   ]
  },
  {
   "cell_type": "code",
   "execution_count": 10,
   "metadata": {},
   "outputs": [],
   "source": [
    "def find_neighbors(current_position, terrain):\n",
    "    neighbors = [] #empty list\n",
    "    #Fill this in\n",
    "    return neighbors"
   ]
  },
  {
   "cell_type": "markdown",
   "metadata": {},
   "source": [
    "Now, we want to find the heuristic cost for a given location on the terrain.  The heuristic cost you should use is:\n",
    "\n",
    "Find the Manhattan distance to the nearest 🌲 -- e.g. if the tree is at `(x',y')` and the given location is `(x,y)` the heuristic distance is `abs(y-y') + abs(x-x')`"
   ]
  },
  {
   "cell_type": "code",
   "execution_count": 11,
   "metadata": {},
   "outputs": [],
   "source": [
    "def get_heuristic(position, terrain):\n",
    "    min_distance = 0\n",
    "    #fill this in\n",
    "    return min_distance\n",
    "            "
   ]
  },
  {
   "cell_type": "markdown",
   "metadata": {},
   "source": [
    "We also need to implement a function that recognizes whether the goal state has been achieved, i.e. is there a 🌲 found at the current position.\n"
   ]
  },
  {
   "cell_type": "code",
   "execution_count": 12,
   "metadata": {},
   "outputs": [],
   "source": [
    "def is_goal(position,terrain):\n",
    "    #fill this in\n",
    "    return False\n",
    "            "
   ]
  },
  {
   "cell_type": "markdown",
   "metadata": {},
   "source": [
    "Finally, here is a helper class -- PriorityQueue -- and a helper function pretty_print_path that takes in the path (a list of position (x,y) tuples) and outputs a pretty string with emoji showing the path through the terrain"
   ]
  },
  {
   "cell_type": "code",
   "execution_count": 1,
   "metadata": {},
   "outputs": [],
   "source": [
    "import heapq\n",
    "\n",
    "class PriorityQueue:\n",
    "    def __init__(self):\n",
    "        self.elements = []\n",
    "        self.visited = 0\n",
    "    \n",
    "    def empty(self):\n",
    "        return len(self.elements) == 0\n",
    "    \n",
    "    def put(self, item, priority):\n",
    "        heapq.heappush(self.elements, (priority, self.visited, item))\n",
    "        self.visited += 1\n",
    "    def get(self):\n",
    "        return heapq.heappop(self.elements)[2]\n",
    "    \n",
    "def pretty_print_path(path,terrain):\n",
    "        \n",
    "    emojis = ['😀','😁','😂','🤣','😃','😄','😅','😆','😉','😊','😋']\n",
    "    \n",
    "    path2len = {location:distance for distance,location in enumerate(path)}\n",
    "    output = []\n",
    "    for yy,row in enumerate(terrain):\n",
    "        row_str = ''\n",
    "        for xx, cur in enumerate(row):\n",
    "            if (xx,yy) in path2len:\n",
    "                row_str += emojis[path2len[(xx,yy)] % len(emojis)]\n",
    "            else:\n",
    "                row_str += cur\n",
    "        output.append(row_str)\n",
    "    return '\\n'.join(output)"
   ]
  },
  {
   "cell_type": "markdown",
   "metadata": {},
   "source": [
    "Now implement Dijkstra's and A*.  Each function should return a path (list of tuples `(x,y)` pairs going from start to end) for the path.  \n",
    "\n",
    "You should verify a few things\n",
    "\n",
    "1) Your results for Dijkstra's and A* should be the same\n",
    "\n",
    "2) If you run A\\* with a heuristic of  lambda pos: 0, then your Dijkstra's implementation should visit things in the same order as your A\\*\n",
    "\n",
    "3) For your own edification, keep track of how many nodes each search visits"
   ]
  },
  {
   "cell_type": "code",
   "execution_count": 14,
   "metadata": {},
   "outputs": [],
   "source": [
    "def dijkstras(initial_position,world,get_neighbors,is_goal):\n",
    "    return []\n",
    "\n",
    "def a_star(initial_position,world,get_neighbors,is_goal,heuristic):\n",
    "    return []"
   ]
  },
  {
   "cell_type": "markdown",
   "metadata": {},
   "source": [
    "Your final output -- after pretty printing your paths should look like:\n",
    "    \n",
    "😀🌿🌿🌿🌿🌼🌿🌼🌼🌿🌿🌿\n",
    "\n",
    "🌿😁🌿🌿🌿🌼😅🌼🌼🌿🌿🌿\n",
    "\n",
    "🌿🌿😂🤣😃😄🌼😆🌿🌿🌿🌿\n",
    "\n",
    "🌿🌿🌿🌊🌊🌊🌊🌊😉🌊🌊🌊\n",
    "\n",
    "🌊🌊🌊🌊🌊🌊🌊🌊😊🌊🌊🌊\n",
    "\n",
    "🌊🌊🌊🌊🌊🌊🌊🌊😋🌊🌊🌊\n",
    "\n",
    "🌊🌊🌊🌊🌊🌊🌊🌊😀🌊🌊🌊\n",
    "\n",
    "🌊🌊🌊🌊🌊🌊🌊🌊😁🌊🌊🌊\n",
    "\n",
    "🌊🌊🌊🌊🌊🌊🌊🌊😂🌊🌊🌊\n",
    "\n",
    "🌿🌿🌿🌲🌿🌿🌿🌿🌿🤣😃🌲"
   ]
  }
 ],
 "metadata": {
  "kernelspec": {
   "display_name": "Python 3",
   "language": "python",
   "name": "python3"
  },
  "language_info": {
   "codemirror_mode": {
    "name": "ipython",
    "version": 3
   },
   "file_extension": ".py",
   "mimetype": "text/x-python",
   "name": "python",
   "nbconvert_exporter": "python",
   "pygments_lexer": "ipython3",
   "version": "3.7.0"
  }
 },
 "nbformat": 4,
 "nbformat_minor": 2
}
